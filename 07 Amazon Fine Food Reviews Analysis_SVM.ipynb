{
 "cells": [
  {
   "cell_type": "markdown",
   "metadata": {},
   "source": [
    "# Amazon Fine Food Reviews Analysis\n",
    "\n",
    "\n",
    "Data Source: https://www.kaggle.com/snap/amazon-fine-food-reviews <br>\n",
    "\n",
    "EDA: https://nycdatascience.com/blog/student-works/amazon-fine-foods-visualization/\n",
    "\n",
    "\n",
    "The Amazon Fine Food Reviews dataset consists of reviews of fine foods from Amazon.<br>\n",
    "\n",
    "Number of reviews: 568,454<br>\n",
    "Number of users: 256,059<br>\n",
    "Number of products: 74,258<br>\n",
    "Timespan: Oct 1999 - Oct 2012<br>\n",
    "Number of Attributes/Columns in data: 10 \n",
    "\n",
    "Attribute Information:\n",
    "\n",
    "1. Id\n",
    "2. ProductId - unique identifier for the product\n",
    "3. UserId - unqiue identifier for the user\n",
    "4. ProfileName\n",
    "5. HelpfulnessNumerator - number of users who found the review helpful\n",
    "6. HelpfulnessDenominator - number of users who indicated whether they found the review helpful or not\n",
    "7. Score - rating between 1 and 5\n",
    "8. Time - timestamp for the review\n",
    "9. Summary - brief summary of the review\n",
    "10. Text - text of the review\n",
    "\n",
    "\n",
    "#### Objective:\n",
    "Given a review, determine whether the review is positive (rating of 4 or 5) or negative (rating of 1 or 2).\n",
    "\n",
    "<br>\n",
    "[Q] How to determine if a review is positive or negative?<br>\n",
    "<br> \n",
    "[Ans] We could use Score/Rating. A rating of 4 or 5 can be cosnidered as a positive review. A rating of 1 or 2 can be considered as negative one. A review of rating 3 is considered nuetral and such reviews are ignored from our analysis. This is an approximate and proxy way of determining the polarity (positivity/negativity) of a review.\n",
    "\n",
    "\n"
   ]
  },
  {
   "cell_type": "markdown",
   "metadata": {},
   "source": [
    "# [1]. Reading Data"
   ]
  },
  {
   "cell_type": "markdown",
   "metadata": {},
   "source": [
    "## [1.1] Loading the data\n",
    "\n",
    "The dataset is available in two forms\n",
    "1. .csv file\n",
    "2. SQLite Database\n",
    "\n",
    "In order to load the data, We have used the SQLITE dataset as it is easier to query the data and visualise the data efficiently.\n",
    "<br> \n",
    "\n",
    "Here as we only want to get the global sentiment of the recommendations (positive or negative), we will purposefully ignore all Scores equal to 3. If the score is above 3, then the recommendation wil be set to \"positive\". Otherwise, it will be set to \"negative\"."
   ]
  },
  {
   "cell_type": "code",
   "execution_count": 124,
   "metadata": {
    "scrolled": true
   },
   "outputs": [],
   "source": [
    "import warnings\n",
    "warnings.filterwarnings(\"ignore\")\n",
    "\n",
    "import sqlite3\n",
    "import pandas as pd\n",
    "import numpy as np\n",
    "import nltk\n",
    "import matplotlib.pyplot as plt\n",
    "from mpl_toolkits import mplot3d\n",
    "from sklearn.externals import joblib\n",
    "import string\n",
    "from operator import itemgetter\n",
    "import seaborn as sns\n",
    "from sklearn.feature_extraction.text import TfidfTransformer\n",
    "from sklearn.feature_extraction.text import TfidfVectorizer\n",
    "\n",
    "from sklearn.feature_extraction.text import CountVectorizer\n",
    "from sklearn.metrics import confusion_matrix\n",
    "from sklearn import metrics\n",
    "from sklearn.metrics import roc_curve, auc\n",
    "from nltk.stem.porter import PorterStemmer\n",
    "\n",
    "import re\n",
    "# Tutorial about Python regular expressions: https://pymotw.com/2/re/\n",
    "import string\n",
    "from nltk.corpus import stopwords\n",
    "from nltk.stem import PorterStemmer\n",
    "from nltk.stem.wordnet import WordNetLemmatizer\n",
    "\n",
    "from gensim.models import Word2Vec\n",
    "from gensim.models import KeyedVectors\n",
    "import pickle\n",
    "\n",
    "from tqdm import tqdm\n",
    "import os\n",
    "from wordcloud import WordCloud\n",
    "from operator import itemgetter\n",
    "from sklearn.model_selection import train_test_split\n",
    "from sklearn.metrics import accuracy_score\n",
    "from sklearn.model_selection import cross_val_score\n",
    "from collections import Counter\n",
    "from sklearn.metrics import accuracy_score\n",
    "# importing Models\n",
    "from sklearn import linear_model"
   ]
  },
  {
   "cell_type": "code",
   "execution_count": 125,
   "metadata": {},
   "outputs": [
    {
     "name": "stdout",
     "output_type": "stream",
     "text": [
      "Number of data points in our data (525814, 10)\n"
     ]
    },
    {
     "data": {
      "text/html": [
       "<div>\n",
       "<style scoped>\n",
       "    .dataframe tbody tr th:only-of-type {\n",
       "        vertical-align: middle;\n",
       "    }\n",
       "\n",
       "    .dataframe tbody tr th {\n",
       "        vertical-align: top;\n",
       "    }\n",
       "\n",
       "    .dataframe thead th {\n",
       "        text-align: right;\n",
       "    }\n",
       "</style>\n",
       "<table border=\"1\" class=\"dataframe\">\n",
       "  <thead>\n",
       "    <tr style=\"text-align: right;\">\n",
       "      <th></th>\n",
       "      <th>Id</th>\n",
       "      <th>ProductId</th>\n",
       "      <th>UserId</th>\n",
       "      <th>ProfileName</th>\n",
       "      <th>HelpfulnessNumerator</th>\n",
       "      <th>HelpfulnessDenominator</th>\n",
       "      <th>Score</th>\n",
       "      <th>Time</th>\n",
       "      <th>Summary</th>\n",
       "      <th>Text</th>\n",
       "    </tr>\n",
       "  </thead>\n",
       "  <tbody>\n",
       "    <tr>\n",
       "      <th>0</th>\n",
       "      <td>1</td>\n",
       "      <td>B001E4KFG0</td>\n",
       "      <td>A3SGXH7AUHU8GW</td>\n",
       "      <td>delmartian</td>\n",
       "      <td>1</td>\n",
       "      <td>1</td>\n",
       "      <td>positive</td>\n",
       "      <td>1303862400</td>\n",
       "      <td>Good Quality Dog Food</td>\n",
       "      <td>I have bought several of the Vitality canned d...</td>\n",
       "    </tr>\n",
       "    <tr>\n",
       "      <th>1</th>\n",
       "      <td>2</td>\n",
       "      <td>B00813GRG4</td>\n",
       "      <td>A1D87F6ZCVE5NK</td>\n",
       "      <td>dll pa</td>\n",
       "      <td>0</td>\n",
       "      <td>0</td>\n",
       "      <td>negative</td>\n",
       "      <td>1346976000</td>\n",
       "      <td>Not as Advertised</td>\n",
       "      <td>Product arrived labeled as Jumbo Salted Peanut...</td>\n",
       "    </tr>\n",
       "  </tbody>\n",
       "</table>\n",
       "</div>"
      ],
      "text/plain": [
       "   Id   ProductId          UserId ProfileName  HelpfulnessNumerator  \\\n",
       "0   1  B001E4KFG0  A3SGXH7AUHU8GW  delmartian                     1   \n",
       "1   2  B00813GRG4  A1D87F6ZCVE5NK      dll pa                     0   \n",
       "\n",
       "   HelpfulnessDenominator     Score        Time                Summary  \\\n",
       "0                       1  positive  1303862400  Good Quality Dog Food   \n",
       "1                       0  negative  1346976000      Not as Advertised   \n",
       "\n",
       "                                                Text  \n",
       "0  I have bought several of the Vitality canned d...  \n",
       "1  Product arrived labeled as Jumbo Salted Peanut...  "
      ]
     },
     "execution_count": 125,
     "metadata": {},
     "output_type": "execute_result"
    }
   ],
   "source": [
    "# using SQLite Table to read data.\n",
    "con = sqlite3.connect('database.sqlite')\n",
    "# filtering only positive and negative reviews i.e. \n",
    "# not taking into consideration those reviews with Score=3\n",
    "# SELECT * FROM Reviews WHERE Score != 3 LIMIT 500000, will give top 500000 data points\n",
    "# you can change the number to any other number based on your computing power\n",
    "# filtered_data = pd.read_sql_query(\"\"\" SELECT * FROM Reviews WHERE Score != 3 LIMIT 500000\"\"\", con) \n",
    "filtered_data = pd.read_sql_query(\"\"\" SELECT * FROM Reviews WHERE Score != 3 \"\"\", con) \n",
    "# Give reviews with Score>3 a positive rating, and reviews with a score<3 a negative rating.\n",
    "def partition(x):\n",
    "    if x < 3:\n",
    "        return 'negative'\n",
    "    return 'positive'\n",
    "\n",
    "#changing reviews with score less than 3 to be positive and vice-versa\n",
    "actualScore = filtered_data['Score']\n",
    "positiveNegative = actualScore.map(partition) \n",
    "\n",
    "filtered_data['Score'] = positiveNegative\n",
    "print(\"Number of data points in our data\", filtered_data.shape)\n",
    "filtered_data.head(2)"
   ]
  },
  {
   "cell_type": "code",
   "execution_count": 126,
   "metadata": {},
   "outputs": [],
   "source": [
    "display = pd.read_sql_query(\"\"\"\n",
    "SELECT UserId, ProductId, ProfileName, Time, Score, Text, COUNT(*)\n",
    "FROM Reviews\n",
    "GROUP BY UserId\n",
    "HAVING COUNT(*)>1\n",
    "\"\"\", con)"
   ]
  },
  {
   "cell_type": "code",
   "execution_count": 127,
   "metadata": {
    "scrolled": true
   },
   "outputs": [
    {
     "name": "stdout",
     "output_type": "stream",
     "text": [
      "(80668, 7)\n"
     ]
    },
    {
     "data": {
      "text/html": [
       "<div>\n",
       "<style scoped>\n",
       "    .dataframe tbody tr th:only-of-type {\n",
       "        vertical-align: middle;\n",
       "    }\n",
       "\n",
       "    .dataframe tbody tr th {\n",
       "        vertical-align: top;\n",
       "    }\n",
       "\n",
       "    .dataframe thead th {\n",
       "        text-align: right;\n",
       "    }\n",
       "</style>\n",
       "<table border=\"1\" class=\"dataframe\">\n",
       "  <thead>\n",
       "    <tr style=\"text-align: right;\">\n",
       "      <th></th>\n",
       "      <th>UserId</th>\n",
       "      <th>ProductId</th>\n",
       "      <th>ProfileName</th>\n",
       "      <th>Time</th>\n",
       "      <th>Score</th>\n",
       "      <th>Text</th>\n",
       "      <th>COUNT(*)</th>\n",
       "    </tr>\n",
       "  </thead>\n",
       "  <tbody>\n",
       "    <tr>\n",
       "      <th>0</th>\n",
       "      <td>#oc-R115TNMSPFT9I7</td>\n",
       "      <td>B005ZBZLT4</td>\n",
       "      <td>Breyton</td>\n",
       "      <td>1331510400</td>\n",
       "      <td>2</td>\n",
       "      <td>Overall its just OK when considering the price...</td>\n",
       "      <td>2</td>\n",
       "    </tr>\n",
       "    <tr>\n",
       "      <th>1</th>\n",
       "      <td>#oc-R11D9D7SHXIJB9</td>\n",
       "      <td>B005HG9ESG</td>\n",
       "      <td>Louis E. Emory \"hoppy\"</td>\n",
       "      <td>1342396800</td>\n",
       "      <td>5</td>\n",
       "      <td>My wife has recurring extreme muscle spasms, u...</td>\n",
       "      <td>3</td>\n",
       "    </tr>\n",
       "    <tr>\n",
       "      <th>2</th>\n",
       "      <td>#oc-R11DNU2NBKQ23Z</td>\n",
       "      <td>B005ZBZLT4</td>\n",
       "      <td>Kim Cieszykowski</td>\n",
       "      <td>1348531200</td>\n",
       "      <td>1</td>\n",
       "      <td>This coffee is horrible and unfortunately not ...</td>\n",
       "      <td>2</td>\n",
       "    </tr>\n",
       "    <tr>\n",
       "      <th>3</th>\n",
       "      <td>#oc-R11O5J5ZVQE25C</td>\n",
       "      <td>B005HG9ESG</td>\n",
       "      <td>Penguin Chick</td>\n",
       "      <td>1346889600</td>\n",
       "      <td>5</td>\n",
       "      <td>This will be the bottle that you grab from the...</td>\n",
       "      <td>3</td>\n",
       "    </tr>\n",
       "    <tr>\n",
       "      <th>4</th>\n",
       "      <td>#oc-R12KPBODL2B5ZD</td>\n",
       "      <td>B007OSBEV0</td>\n",
       "      <td>Christopher P. Presta</td>\n",
       "      <td>1348617600</td>\n",
       "      <td>1</td>\n",
       "      <td>I didnt like this coffee. Instead of telling y...</td>\n",
       "      <td>2</td>\n",
       "    </tr>\n",
       "  </tbody>\n",
       "</table>\n",
       "</div>"
      ],
      "text/plain": [
       "               UserId   ProductId             ProfileName        Time  Score  \\\n",
       "0  #oc-R115TNMSPFT9I7  B005ZBZLT4                 Breyton  1331510400      2   \n",
       "1  #oc-R11D9D7SHXIJB9  B005HG9ESG  Louis E. Emory \"hoppy\"  1342396800      5   \n",
       "2  #oc-R11DNU2NBKQ23Z  B005ZBZLT4        Kim Cieszykowski  1348531200      1   \n",
       "3  #oc-R11O5J5ZVQE25C  B005HG9ESG           Penguin Chick  1346889600      5   \n",
       "4  #oc-R12KPBODL2B5ZD  B007OSBEV0   Christopher P. Presta  1348617600      1   \n",
       "\n",
       "                                                Text  COUNT(*)  \n",
       "0  Overall its just OK when considering the price...         2  \n",
       "1  My wife has recurring extreme muscle spasms, u...         3  \n",
       "2  This coffee is horrible and unfortunately not ...         2  \n",
       "3  This will be the bottle that you grab from the...         3  \n",
       "4  I didnt like this coffee. Instead of telling y...         2  "
      ]
     },
     "execution_count": 127,
     "metadata": {},
     "output_type": "execute_result"
    }
   ],
   "source": [
    "print(display.shape)\n",
    "display.head()"
   ]
  },
  {
   "cell_type": "code",
   "execution_count": 128,
   "metadata": {},
   "outputs": [
    {
     "data": {
      "text/html": [
       "<div>\n",
       "<style scoped>\n",
       "    .dataframe tbody tr th:only-of-type {\n",
       "        vertical-align: middle;\n",
       "    }\n",
       "\n",
       "    .dataframe tbody tr th {\n",
       "        vertical-align: top;\n",
       "    }\n",
       "\n",
       "    .dataframe thead th {\n",
       "        text-align: right;\n",
       "    }\n",
       "</style>\n",
       "<table border=\"1\" class=\"dataframe\">\n",
       "  <thead>\n",
       "    <tr style=\"text-align: right;\">\n",
       "      <th></th>\n",
       "      <th>UserId</th>\n",
       "      <th>ProductId</th>\n",
       "      <th>ProfileName</th>\n",
       "      <th>Time</th>\n",
       "      <th>Score</th>\n",
       "      <th>Text</th>\n",
       "      <th>COUNT(*)</th>\n",
       "    </tr>\n",
       "  </thead>\n",
       "  <tbody>\n",
       "    <tr>\n",
       "      <th>80638</th>\n",
       "      <td>AZY10LLTJ71NX</td>\n",
       "      <td>B001ATMQK2</td>\n",
       "      <td>undertheshrine \"undertheshrine\"</td>\n",
       "      <td>1296691200</td>\n",
       "      <td>5</td>\n",
       "      <td>I bought this 6 pack because for the price tha...</td>\n",
       "      <td>5</td>\n",
       "    </tr>\n",
       "  </tbody>\n",
       "</table>\n",
       "</div>"
      ],
      "text/plain": [
       "              UserId   ProductId                      ProfileName        Time  \\\n",
       "80638  AZY10LLTJ71NX  B001ATMQK2  undertheshrine \"undertheshrine\"  1296691200   \n",
       "\n",
       "       Score                                               Text  COUNT(*)  \n",
       "80638      5  I bought this 6 pack because for the price tha...         5  "
      ]
     },
     "execution_count": 128,
     "metadata": {},
     "output_type": "execute_result"
    }
   ],
   "source": [
    "display[display['UserId']=='AZY10LLTJ71NX']"
   ]
  },
  {
   "cell_type": "code",
   "execution_count": 129,
   "metadata": {},
   "outputs": [
    {
     "data": {
      "text/plain": [
       "393063"
      ]
     },
     "execution_count": 129,
     "metadata": {},
     "output_type": "execute_result"
    }
   ],
   "source": [
    "display['COUNT(*)'].sum()"
   ]
  },
  {
   "cell_type": "markdown",
   "metadata": {},
   "source": [
    "## Exploratory Data Analysis"
   ]
  },
  {
   "cell_type": "markdown",
   "metadata": {},
   "source": [
    "## Data Cleaning: Deduplication\n",
    "\n",
    "It is observed (as shown in the table below) that the reviews data had many duplicate entries. Hence it was necessary to remove duplicates in order to get unbiased results for the analysis of the data.  Following is an example:"
   ]
  },
  {
   "cell_type": "code",
   "execution_count": 130,
   "metadata": {
    "scrolled": false
   },
   "outputs": [
    {
     "data": {
      "text/html": [
       "<div>\n",
       "<style scoped>\n",
       "    .dataframe tbody tr th:only-of-type {\n",
       "        vertical-align: middle;\n",
       "    }\n",
       "\n",
       "    .dataframe tbody tr th {\n",
       "        vertical-align: top;\n",
       "    }\n",
       "\n",
       "    .dataframe thead th {\n",
       "        text-align: right;\n",
       "    }\n",
       "</style>\n",
       "<table border=\"1\" class=\"dataframe\">\n",
       "  <thead>\n",
       "    <tr style=\"text-align: right;\">\n",
       "      <th></th>\n",
       "      <th>Id</th>\n",
       "      <th>ProductId</th>\n",
       "      <th>UserId</th>\n",
       "      <th>ProfileName</th>\n",
       "      <th>HelpfulnessNumerator</th>\n",
       "      <th>HelpfulnessDenominator</th>\n",
       "      <th>Score</th>\n",
       "      <th>Time</th>\n",
       "      <th>Summary</th>\n",
       "      <th>Text</th>\n",
       "    </tr>\n",
       "  </thead>\n",
       "  <tbody>\n",
       "    <tr>\n",
       "      <th>0</th>\n",
       "      <td>78445</td>\n",
       "      <td>B000HDL1RQ</td>\n",
       "      <td>AR5J8UI46CURR</td>\n",
       "      <td>Geetha Krishnan</td>\n",
       "      <td>2</td>\n",
       "      <td>2</td>\n",
       "      <td>5</td>\n",
       "      <td>1199577600</td>\n",
       "      <td>LOACKER QUADRATINI VANILLA WAFERS</td>\n",
       "      <td>DELICIOUS WAFERS. I FIND THAT EUROPEAN WAFERS ...</td>\n",
       "    </tr>\n",
       "    <tr>\n",
       "      <th>1</th>\n",
       "      <td>138317</td>\n",
       "      <td>B000HDOPYC</td>\n",
       "      <td>AR5J8UI46CURR</td>\n",
       "      <td>Geetha Krishnan</td>\n",
       "      <td>2</td>\n",
       "      <td>2</td>\n",
       "      <td>5</td>\n",
       "      <td>1199577600</td>\n",
       "      <td>LOACKER QUADRATINI VANILLA WAFERS</td>\n",
       "      <td>DELICIOUS WAFERS. I FIND THAT EUROPEAN WAFERS ...</td>\n",
       "    </tr>\n",
       "    <tr>\n",
       "      <th>2</th>\n",
       "      <td>138277</td>\n",
       "      <td>B000HDOPYM</td>\n",
       "      <td>AR5J8UI46CURR</td>\n",
       "      <td>Geetha Krishnan</td>\n",
       "      <td>2</td>\n",
       "      <td>2</td>\n",
       "      <td>5</td>\n",
       "      <td>1199577600</td>\n",
       "      <td>LOACKER QUADRATINI VANILLA WAFERS</td>\n",
       "      <td>DELICIOUS WAFERS. I FIND THAT EUROPEAN WAFERS ...</td>\n",
       "    </tr>\n",
       "    <tr>\n",
       "      <th>3</th>\n",
       "      <td>73791</td>\n",
       "      <td>B000HDOPZG</td>\n",
       "      <td>AR5J8UI46CURR</td>\n",
       "      <td>Geetha Krishnan</td>\n",
       "      <td>2</td>\n",
       "      <td>2</td>\n",
       "      <td>5</td>\n",
       "      <td>1199577600</td>\n",
       "      <td>LOACKER QUADRATINI VANILLA WAFERS</td>\n",
       "      <td>DELICIOUS WAFERS. I FIND THAT EUROPEAN WAFERS ...</td>\n",
       "    </tr>\n",
       "    <tr>\n",
       "      <th>4</th>\n",
       "      <td>155049</td>\n",
       "      <td>B000PAQ75C</td>\n",
       "      <td>AR5J8UI46CURR</td>\n",
       "      <td>Geetha Krishnan</td>\n",
       "      <td>2</td>\n",
       "      <td>2</td>\n",
       "      <td>5</td>\n",
       "      <td>1199577600</td>\n",
       "      <td>LOACKER QUADRATINI VANILLA WAFERS</td>\n",
       "      <td>DELICIOUS WAFERS. I FIND THAT EUROPEAN WAFERS ...</td>\n",
       "    </tr>\n",
       "  </tbody>\n",
       "</table>\n",
       "</div>"
      ],
      "text/plain": [
       "       Id   ProductId         UserId      ProfileName  HelpfulnessNumerator  \\\n",
       "0   78445  B000HDL1RQ  AR5J8UI46CURR  Geetha Krishnan                     2   \n",
       "1  138317  B000HDOPYC  AR5J8UI46CURR  Geetha Krishnan                     2   \n",
       "2  138277  B000HDOPYM  AR5J8UI46CURR  Geetha Krishnan                     2   \n",
       "3   73791  B000HDOPZG  AR5J8UI46CURR  Geetha Krishnan                     2   \n",
       "4  155049  B000PAQ75C  AR5J8UI46CURR  Geetha Krishnan                     2   \n",
       "\n",
       "   HelpfulnessDenominator  Score        Time  \\\n",
       "0                       2      5  1199577600   \n",
       "1                       2      5  1199577600   \n",
       "2                       2      5  1199577600   \n",
       "3                       2      5  1199577600   \n",
       "4                       2      5  1199577600   \n",
       "\n",
       "                             Summary  \\\n",
       "0  LOACKER QUADRATINI VANILLA WAFERS   \n",
       "1  LOACKER QUADRATINI VANILLA WAFERS   \n",
       "2  LOACKER QUADRATINI VANILLA WAFERS   \n",
       "3  LOACKER QUADRATINI VANILLA WAFERS   \n",
       "4  LOACKER QUADRATINI VANILLA WAFERS   \n",
       "\n",
       "                                                Text  \n",
       "0  DELICIOUS WAFERS. I FIND THAT EUROPEAN WAFERS ...  \n",
       "1  DELICIOUS WAFERS. I FIND THAT EUROPEAN WAFERS ...  \n",
       "2  DELICIOUS WAFERS. I FIND THAT EUROPEAN WAFERS ...  \n",
       "3  DELICIOUS WAFERS. I FIND THAT EUROPEAN WAFERS ...  \n",
       "4  DELICIOUS WAFERS. I FIND THAT EUROPEAN WAFERS ...  "
      ]
     },
     "execution_count": 130,
     "metadata": {},
     "output_type": "execute_result"
    }
   ],
   "source": [
    "display= pd.read_sql_query(\"\"\"\n",
    "SELECT *\n",
    "FROM Reviews\n",
    "WHERE Score != 3 AND UserId=\"AR5J8UI46CURR\"\n",
    "ORDER BY ProductID\n",
    "\"\"\", con)\n",
    "display.head()"
   ]
  },
  {
   "cell_type": "markdown",
   "metadata": {},
   "source": [
    "As it can be seen above that same user has multiple reviews with same values for HelpfulnessNumerator, HelpfulnessDenominator, Score, Time, Summary and Text and on doing analysis it was found that <br>\n",
    "<br> \n",
    "ProductId=B000HDOPZG was Loacker Quadratini Vanilla Wafer Cookies, 8.82-Ounce Packages (Pack of 8)<br>\n",
    "<br> \n",
    "ProductId=B000HDL1RQ was Loacker Quadratini Lemon Wafer Cookies, 8.82-Ounce Packages (Pack of 8) and so on<br>\n",
    "\n",
    "It was inferred after analysis that reviews with same parameters other than ProductId belonged to the same product just having different flavour or quantity. Hence in order to reduce redundancy it was decided to eliminate the rows having same parameters.<br>\n",
    "\n",
    "The method used for the same was that we first sort the data according to ProductId and then just keep the first similar product review and delete the others. for eg. in the above just the review for ProductId=B000HDL1RQ remains. This method ensures that there is only one representative for each product and deduplication without sorting would lead to possibility of different representatives still existing for the same product."
   ]
  },
  {
   "cell_type": "code",
   "execution_count": 131,
   "metadata": {},
   "outputs": [
    {
     "data": {
      "text/plain": [
       "positive    443777\n",
       "negative     82037\n",
       "Name: Score, dtype: int64"
      ]
     },
     "execution_count": 131,
     "metadata": {},
     "output_type": "execute_result"
    }
   ],
   "source": [
    "filtered_data['Score'].value_counts()"
   ]
  },
  {
   "cell_type": "code",
   "execution_count": 132,
   "metadata": {},
   "outputs": [],
   "source": [
    "#Sorting data according to ProductId in ascending order\n",
    "sorted_data=filtered_data.sort_values('ProductId', axis=0, ascending=True, inplace=False, kind='quicksort', na_position='last')"
   ]
  },
  {
   "cell_type": "code",
   "execution_count": 133,
   "metadata": {},
   "outputs": [
    {
     "data": {
      "text/plain": [
       "(364173, 10)"
      ]
     },
     "execution_count": 133,
     "metadata": {},
     "output_type": "execute_result"
    }
   ],
   "source": [
    "#Deduplication of entries\n",
    "final=sorted_data.drop_duplicates(subset={\"UserId\",\"ProfileName\",\"Time\",\"Text\"}, keep='first', inplace=False)\n",
    "final.shape"
   ]
  },
  {
   "cell_type": "code",
   "execution_count": 134,
   "metadata": {},
   "outputs": [
    {
     "data": {
      "text/plain": [
       "69.25890143662969"
      ]
     },
     "execution_count": 134,
     "metadata": {},
     "output_type": "execute_result"
    }
   ],
   "source": [
    "#Checking to see how much % of data still remains\n",
    "(final['Id'].size*1.0)/(filtered_data['Id'].size*1.0)*100"
   ]
  },
  {
   "cell_type": "markdown",
   "metadata": {},
   "source": [
    "<b>Observation:-</b> It was also seen that in two rows given below the value of HelpfulnessNumerator is greater than HelpfulnessDenominator which is not practically possible hence these two rows too are removed from calcualtions"
   ]
  },
  {
   "cell_type": "code",
   "execution_count": 135,
   "metadata": {},
   "outputs": [
    {
     "data": {
      "text/html": [
       "<div>\n",
       "<style scoped>\n",
       "    .dataframe tbody tr th:only-of-type {\n",
       "        vertical-align: middle;\n",
       "    }\n",
       "\n",
       "    .dataframe tbody tr th {\n",
       "        vertical-align: top;\n",
       "    }\n",
       "\n",
       "    .dataframe thead th {\n",
       "        text-align: right;\n",
       "    }\n",
       "</style>\n",
       "<table border=\"1\" class=\"dataframe\">\n",
       "  <thead>\n",
       "    <tr style=\"text-align: right;\">\n",
       "      <th></th>\n",
       "      <th>Id</th>\n",
       "      <th>ProductId</th>\n",
       "      <th>UserId</th>\n",
       "      <th>ProfileName</th>\n",
       "      <th>HelpfulnessNumerator</th>\n",
       "      <th>HelpfulnessDenominator</th>\n",
       "      <th>Score</th>\n",
       "      <th>Time</th>\n",
       "      <th>Summary</th>\n",
       "      <th>Text</th>\n",
       "    </tr>\n",
       "  </thead>\n",
       "  <tbody>\n",
       "    <tr>\n",
       "      <th>0</th>\n",
       "      <td>64422</td>\n",
       "      <td>B000MIDROQ</td>\n",
       "      <td>A161DK06JJMCYF</td>\n",
       "      <td>J. E. Stephens \"Jeanne\"</td>\n",
       "      <td>3</td>\n",
       "      <td>1</td>\n",
       "      <td>5</td>\n",
       "      <td>1224892800</td>\n",
       "      <td>Bought This for My Son at College</td>\n",
       "      <td>My son loves spaghetti so I didn't hesitate or...</td>\n",
       "    </tr>\n",
       "    <tr>\n",
       "      <th>1</th>\n",
       "      <td>44737</td>\n",
       "      <td>B001EQ55RW</td>\n",
       "      <td>A2V0I904FH7ABY</td>\n",
       "      <td>Ram</td>\n",
       "      <td>3</td>\n",
       "      <td>2</td>\n",
       "      <td>4</td>\n",
       "      <td>1212883200</td>\n",
       "      <td>Pure cocoa taste with crunchy almonds inside</td>\n",
       "      <td>It was almost a 'love at first bite' - the per...</td>\n",
       "    </tr>\n",
       "  </tbody>\n",
       "</table>\n",
       "</div>"
      ],
      "text/plain": [
       "      Id   ProductId          UserId              ProfileName  \\\n",
       "0  64422  B000MIDROQ  A161DK06JJMCYF  J. E. Stephens \"Jeanne\"   \n",
       "1  44737  B001EQ55RW  A2V0I904FH7ABY                      Ram   \n",
       "\n",
       "   HelpfulnessNumerator  HelpfulnessDenominator  Score        Time  \\\n",
       "0                     3                       1      5  1224892800   \n",
       "1                     3                       2      4  1212883200   \n",
       "\n",
       "                                        Summary  \\\n",
       "0             Bought This for My Son at College   \n",
       "1  Pure cocoa taste with crunchy almonds inside   \n",
       "\n",
       "                                                Text  \n",
       "0  My son loves spaghetti so I didn't hesitate or...  \n",
       "1  It was almost a 'love at first bite' - the per...  "
      ]
     },
     "execution_count": 135,
     "metadata": {},
     "output_type": "execute_result"
    }
   ],
   "source": [
    "display= pd.read_sql_query(\"\"\"\n",
    "SELECT *\n",
    "FROM Reviews\n",
    "WHERE Score != 3 AND Id=44737 OR Id=64422\n",
    "ORDER BY ProductID\n",
    "\"\"\", con)\n",
    "\n",
    "display.head()"
   ]
  },
  {
   "cell_type": "code",
   "execution_count": 136,
   "metadata": {},
   "outputs": [],
   "source": [
    "final=final[final.HelpfulnessNumerator<=final.HelpfulnessDenominator]"
   ]
  },
  {
   "cell_type": "code",
   "execution_count": 137,
   "metadata": {},
   "outputs": [
    {
     "name": "stdout",
     "output_type": "stream",
     "text": [
      "(364171, 10)\n"
     ]
    },
    {
     "data": {
      "text/plain": [
       "positive    307061\n",
       "negative     57110\n",
       "Name: Score, dtype: int64"
      ]
     },
     "execution_count": 137,
     "metadata": {},
     "output_type": "execute_result"
    }
   ],
   "source": [
    "#Before starting the next phase of preprocessing lets see the number of entries left\n",
    "print(final.shape)\n",
    "\n",
    "#How many positive and negative reviews are present in our dataset?\n",
    "final['Score'].value_counts()"
   ]
  },
  {
   "cell_type": "code",
   "execution_count": 138,
   "metadata": {},
   "outputs": [
    {
     "data": {
      "text/plain": [
       "0"
      ]
     },
     "execution_count": 138,
     "metadata": {},
     "output_type": "execute_result"
    }
   ],
   "source": [
    "# checking whether anything is NaN or not\n",
    "final.isnull().sum().sum()"
   ]
  },
  {
   "cell_type": "code",
   "execution_count": 139,
   "metadata": {},
   "outputs": [],
   "source": [
    "# Sorting the dataframe for time based slicing\n",
    "final.sort_values(by =['Time'], inplace=True)"
   ]
  },
  {
   "cell_type": "code",
   "execution_count": 140,
   "metadata": {},
   "outputs": [],
   "source": [
    "# Taking Only 100k sample points with 87729 positive and 12271 negative\n",
    "sample40K_data = final.iloc[:40000,:]"
   ]
  },
  {
   "cell_type": "code",
   "execution_count": 142,
   "metadata": {},
   "outputs": [
    {
     "data": {
      "text/plain": [
       "pandas.core.frame.DataFrame"
      ]
     },
     "execution_count": 142,
     "metadata": {},
     "output_type": "execute_result"
    }
   ],
   "source": [
    "type(sample40K_data)"
   ]
  },
  {
   "cell_type": "code",
   "execution_count": 143,
   "metadata": {},
   "outputs": [
    {
     "data": {
      "text/plain": [
       "positive    35595\n",
       "negative     4405\n",
       "Name: Score, dtype: int64"
      ]
     },
     "execution_count": 143,
     "metadata": {},
     "output_type": "execute_result"
    }
   ],
   "source": [
    "# checking number of positive and negative points \n",
    "sample40K_data['Score'].value_counts()"
   ]
  },
  {
   "cell_type": "markdown",
   "metadata": {},
   "source": [
    "# Preprocessing"
   ]
  },
  {
   "cell_type": "markdown",
   "metadata": {},
   "source": [
    "## Preprocessing Review Text\n",
    "\n",
    "Now that we have finished deduplication our data requires some preprocessing before we go on further with analysis and making the prediction model.\n",
    "\n",
    "Hence in the Preprocessing phase we do the following in the order below:-\n",
    "\n",
    "1. Begin by removing the html tags\n",
    "2. Remove any punctuations or limited set of special characters like , or . or # etc.\n",
    "3. Check if the word is made up of english letters and is not alpha-numeric\n",
    "4. Check to see if the length of the word is greater than 2 (as it was researched that there is no adjective in 2-letters)\n",
    "5. Convert the word to lowercase\n",
    "6. Remove Stopwords\n",
    "7. Finally Snowball Stemming the word (it was obsereved to be better than Porter Stemming)<br>\n",
    "\n",
    "After which we collect the words used to describe positive and negative reviews"
   ]
  },
  {
   "cell_type": "code",
   "execution_count": 144,
   "metadata": {},
   "outputs": [
    {
     "name": "stdout",
     "output_type": "stream",
     "text": [
      "8\n",
      "What happens when you say his name three times? Michael Keaten stars in this comedy about two couples that live in an old two story house.  While coming back from a supply store, the couple suddenly get caught inside of a  &quot;broken-up&quot; bridge and then just before they start to tumble down  into the lake, a board catches them.  But just when they've got their hopes  up, and small dog steps on the board and the car starts to slide off the  bridge and into the lake waters.  A few minutes later...<p>They find  themselves back into their home, they find that somehow somehad light the  fireplace, as if done by magic.  From then on, they find a weird-looking  dead guy known as Bettlejuice.  The only way they can get him for help is  to call him by his name three times and he will appear at their survice.  But they soon wish that they have never called his name, because  Bettlejuice was once a troublemaker but he is the only one who can save  them, on the account that they said his name three times.  They can't leave  their houses or else they will find theirselves in another world with giant  sandworms.  This is a stellar comedy that you should see! Michael Keaton is  awesome as he plays the leading role of Bettlejuice.\n",
      "[nltk_data] Downloading package stopwords to\n",
      "[nltk_data]     /home/developer/nltk_data...\n",
      "[nltk_data]   Package stopwords is already up-to-date!\n"
     ]
    }
   ],
   "source": [
    "# find sentences containing HTML tags\n",
    "import re\n",
    "i=0;\n",
    "for sent in sample40K_data['Text'].values:\n",
    "    if (len(re.findall('<.*?>', sent))):\n",
    "        print(i)\n",
    "        print(sent)\n",
    "        break;\n",
    "    i += 1;\n",
    "\n",
    "\n",
    "import nltk\n",
    "nltk.download('stopwords')\n",
    "\n",
    "stop = set(stopwords.words('english')) #set of stopwords\n",
    "sno = nltk.stem.SnowballStemmer('english') #initialising the snowball stemmer\n",
    "\n",
    "def cleanhtml(sentence): #function to clean the word of any html-tags\n",
    "    cleanr = re.compile('<.*?>')\n",
    "    cleantext = re.sub(cleanr, ' ', sentence)\n",
    "    return cleantext\n",
    "def cleanpunc(sentence): #function to clean the word of any punctuation or special characters\n",
    "    cleaned = re.sub(r'[?|!|\\'|\"|#]',r'',sentence)\n",
    "    cleaned = re.sub(r'[.|,|)|(|\\|/]',r' ',cleaned)\n",
    "    return  cleaned"
   ]
  },
  {
   "cell_type": "code",
   "execution_count": 145,
   "metadata": {},
   "outputs": [],
   "source": [
    "#Code for implementing step-by-step the checks mentioned in the pre-processing phase\n",
    "i=0\n",
    "str1=' '\n",
    "final_string=[]\n",
    "all_positive_words=[] # store words from +ve reviews here\n",
    "all_negative_words=[] # store words from -ve reviews here.\n",
    "s=''\n",
    "for sent in sample40K_data['Text'].values:\n",
    "    filtered_sentence=[]\n",
    "    #print(sent);\n",
    "    sent=cleanhtml(sent) # remove HTMl tags\n",
    "    for w in sent.split():\n",
    "        for cleaned_words in cleanpunc(w).split():\n",
    "            if((cleaned_words.isalpha()) & (len(cleaned_words)>2)):    \n",
    "                if(cleaned_words.lower() not in stop):\n",
    "                    s=(sno.stem(cleaned_words.lower())).encode('utf8')\n",
    "                    filtered_sentence.append(s)\n",
    "                    if (sample40K_data['Score'].values)[i] == 'positive': \n",
    "                        all_positive_words.append(s) #list of all words used to describe positive reviews\n",
    "                    if(sample40K_data['Score'].values)[i] == 'negative':\n",
    "                        all_negative_words.append(s) #list of all words used to describe negative reviews reviews\n",
    "                else:\n",
    "                    continue\n",
    "            else:\n",
    "                continue \n",
    "    #print(filtered_sentence)\n",
    "    str1 = b\" \".join(filtered_sentence) #final string of cleaned words\n",
    "    #print(\"***********************************************************************\")\n",
    "    \n",
    "    final_string.append(str1)\n",
    "    i+=1"
   ]
  },
  {
   "cell_type": "code",
   "execution_count": 146,
   "metadata": {},
   "outputs": [
    {
     "data": {
      "text/plain": [
       "list"
      ]
     },
     "execution_count": 146,
     "metadata": {},
     "output_type": "execute_result"
    }
   ],
   "source": [
    "type(final_string)"
   ]
  },
  {
   "cell_type": "code",
   "execution_count": 147,
   "metadata": {},
   "outputs": [],
   "source": [
    "sample40K_data['CleanedText']=final_string #adding a column of CleanedText which displays the data after pre-processing of the review \n",
    "sample40K_data['CleanedText']=sample40K_data['CleanedText'].str.decode(\"utf-8\")"
   ]
  },
  {
   "cell_type": "code",
   "execution_count": 148,
   "metadata": {},
   "outputs": [
    {
     "data": {
      "text/plain": [
       "138706    witti littl book make son laugh loud recit car...\n",
       "138683    rememb see show air televis year ago child sis...\n",
       "417839    beetlejuic well written movi everyth excel act...\n",
       "346055    twist rumplestiskin captur film star michael k...\n",
       "417838    beetlejuic excel funni movi keaton hilari wack...\n",
       "Name: CleanedText, dtype: object"
      ]
     },
     "execution_count": 148,
     "metadata": {},
     "output_type": "execute_result"
    }
   ],
   "source": [
    "sample40K_data['CleanedText'].head()"
   ]
  },
  {
   "cell_type": "code",
   "execution_count": null,
   "metadata": {},
   "outputs": [],
   "source": [
    "# https://stackoverflow.com/a/47091490/4084039\n",
    "import re\n",
    "def decontracted(phrase):\n",
    "    # specific\n",
    "    phrase = re.sub(r\"won't\", \"will not\", phrase)\n",
    "    phrase = re.sub(r\"can\\'t\", \"can not\", phrase)\n",
    "\n",
    "    # general\n",
    "    phrase = re.sub(r\"n\\'t\", \" not\", phrase)\n",
    "    phrase = re.sub(r\"\\'re\", \" are\", phrase)\n",
    "    phrase = re.sub(r\"\\'s\", \" is\", phrase)\n",
    "    phrase = re.sub(r\"\\'d\", \" would\", phrase)\n",
    "    phrase = re.sub(r\"\\'ll\", \" will\", phrase)\n",
    "    phrase = re.sub(r\"\\'t\", \" not\", phrase)\n",
    "    phrase = re.sub(r\"\\'ve\", \" have\", phrase)\n",
    "    phrase = re.sub(r\"\\'m\", \" am\", phrase)\n",
    "    return phrase"
   ]
  },
  {
   "cell_type": "code",
   "execution_count": null,
   "metadata": {},
   "outputs": [],
   "source": [
    "# https://gist.github.com/sebleier/554280\n",
    "# we are removing the words from the stop words list: 'no', 'nor', 'not'\n",
    "# <br /><br /> ==> after the above steps, we are getting \"br br\"\n",
    "# we are including them into stop words list\n",
    "# instead of <br /> if we have <br/> these tags would have revmoved in the 1st step\n",
    "\n",
    "stopwords= set(['br', 'the', 'i', 'me', 'my', 'myself', 'we', 'our', 'ours', 'ourselves', 'you', \"you're\", \"you've\",\\\n",
    "            \"you'll\", \"you'd\", 'your', 'yours', 'yourself', 'yourselves', 'he', 'him', 'his', 'himself', \\\n",
    "            'she', \"she's\", 'her', 'hers', 'herself', 'it', \"it's\", 'its', 'itself', 'they', 'them', 'their',\\\n",
    "            'theirs', 'themselves', 'what', 'which', 'who', 'whom', 'this', 'that', \"that'll\", 'these', 'those', \\\n",
    "            'am', 'is', 'are', 'was', 'were', 'be', 'been', 'being', 'have', 'has', 'had', 'having', 'do', 'does', \\\n",
    "            'did', 'doing', 'a', 'an', 'the', 'and', 'but', 'if', 'or', 'because', 'as', 'until', 'while', 'of', \\\n",
    "            'at', 'by', 'for', 'with', 'about', 'against', 'between', 'into', 'through', 'during', 'before', 'after',\\\n",
    "            'above', 'below', 'to', 'from', 'up', 'down', 'in', 'out', 'on', 'off', 'over', 'under', 'again', 'further',\\\n",
    "            'then', 'once', 'here', 'there', 'when', 'where', 'why', 'how', 'all', 'any', 'both', 'each', 'few', 'more',\\\n",
    "            'most', 'other', 'some', 'such', 'only', 'own', 'same', 'so', 'than', 'too', 'very', \\\n",
    "            's', 't', 'can', 'will', 'just', 'don', \"don't\", 'should', \"should've\", 'now', 'd', 'll', 'm', 'o', 're', \\\n",
    "            've', 'y', 'ain', 'aren', \"aren't\", 'couldn', \"couldn't\", 'didn', \"didn't\", 'doesn', \"doesn't\", 'hadn',\\\n",
    "            \"hadn't\", 'hasn', \"hasn't\", 'haven', \"haven't\", 'isn', \"isn't\", 'ma', 'mightn', \"mightn't\", 'mustn',\\\n",
    "            \"mustn't\", 'needn', \"needn't\", 'shan', \"shan't\", 'shouldn', \"shouldn't\", 'wasn', \"wasn't\", 'weren', \"weren't\", \\\n",
    "            'won', \"won't\", 'wouldn', \"wouldn't\"])"
   ]
  },
  {
   "cell_type": "code",
   "execution_count": null,
   "metadata": {},
   "outputs": [],
   "source": [
    "# Combining all the above stundents \n",
    "from tqdm import tqdm\n",
    "preprocessed_reviews = []\n",
    "# tqdm is for printing the status bar\n",
    "for sentence in tqdm(final['Text'].values):\n",
    "    # remove urls from text python: https://stackoverflow.com/a/40823105/4084039\n",
    "    sentence = re.sub(r\"http\\S+\", \"\", sentence)\n",
    "    sentence = decontracted(sentence)\n",
    "    #remove words with numbers python: https://stackoverflow.com/a/18082370/4084039\n",
    "    sentence = re.sub(\"\\S*\\d\\S*\", \"\", sentence).strip()\n",
    "    #remove spacial character: https://stackoverflow.com/a/5843547/4084039\n",
    "    sentence = re.sub('[^A-Za-z]+', ' ', sentence)\n",
    "    # Stopword and \n",
    "    sentence = ' '.join(e.lower() for e in sentence.split() if e.lower() not in stopwords)\n",
    "    preprocessed_reviews.append(sentence.strip())"
   ]
  },
  {
   "cell_type": "code",
   "execution_count": null,
   "metadata": {},
   "outputs": [],
   "source": [
    "preprocessed_reviews[1500]"
   ]
  },
  {
   "cell_type": "code",
   "execution_count": 149,
   "metadata": {},
   "outputs": [],
   "source": [
    "# Taking out the class variable or score into separate series.\n",
    "target = sample40K_data['Score']"
   ]
  },
  {
   "cell_type": "code",
   "execution_count": 150,
   "metadata": {},
   "outputs": [
    {
     "data": {
      "text/plain": [
       "['sample40K_data_prepros.joblib']"
      ]
     },
     "execution_count": 150,
     "metadata": {},
     "output_type": "execute_result"
    }
   ],
   "source": [
    "# Saving class variable or score into separate file for future use.\n",
    "from sklearn.externals import joblib\n",
    "joblib.dump(target, 'target.joblib')\n",
    "joblib.dump(sample40K_data, 'sample40K_data_prepros.joblib')"
   ]
  },
  {
   "cell_type": "code",
   "execution_count": 151,
   "metadata": {},
   "outputs": [],
   "source": [
    "# Reading data from previously created class variable or score and preprossed sample 100k data.\n",
    "from sklearn.externals import joblib\n",
    "target = joblib.load('target.joblib')\n",
    "sample40K_data = joblib.load('sample40K_data_prepros.joblib')"
   ]
  },
  {
   "cell_type": "code",
   "execution_count": 152,
   "metadata": {},
   "outputs": [],
   "source": [
    "from sklearn.model_selection import train_test_split\n",
    "from sklearn import model_selection\n",
    "X = sample40K_data.iloc[:,:]\n",
    "y = target\n",
    "\n",
    "# split the data set into train and test\n",
    "X_1, X_test, y_1, y_test = model_selection.train_test_split(X, y, test_size=0.2, random_state=0,stratify = y)\n",
    "\n",
    "# split the train data set into cross validation train and cross validation test\n",
    "X_tr, X_cv, y_tr, y_cv = model_selection.train_test_split(X_1, y_1, test_size=0.2, random_state=1, stratify = y_1)"
   ]
  },
  {
   "cell_type": "code",
   "execution_count": 153,
   "metadata": {},
   "outputs": [
    {
     "data": {
      "text/plain": [
       "['y_test.joblib']"
      ]
     },
     "execution_count": 153,
     "metadata": {},
     "output_type": "execute_result"
    }
   ],
   "source": [
    "# Saving class variable or score into separate file for future use.\n",
    "from sklearn.externals import joblib\n",
    "joblib.dump(y_tr, 'y_tr.joblib')\n",
    "joblib.dump(y_cv, 'y_cv.joblib')\n",
    "joblib.dump(y_test, 'y_test.joblib')"
   ]
  },
  {
   "cell_type": "markdown",
   "metadata": {},
   "source": [
    "# Bag of Words (BoW) implementation for Feature Matrix"
   ]
  },
  {
   "cell_type": "code",
   "execution_count": 154,
   "metadata": {},
   "outputs": [],
   "source": [
    "# Creating BoW model. Taking max_features = 2000 and min_df=10 as obtained from literature.\n",
    "count_vect = CountVectorizer(max_features = 500, min_df=10)\n",
    "x_train_BOW = count_vect.fit_transform(X_tr['CleanedText'].values).todense()\n",
    "x_CV_BOW = count_vect.transform(X_cv['CleanedText'].values)\n",
    "x_test_BOW = count_vect.transform(X_test['CleanedText'].values)"
   ]
  },
  {
   "cell_type": "code",
   "execution_count": 155,
   "metadata": {},
   "outputs": [
    {
     "data": {
      "text/plain": [
       "['x_test_BOW.joblib']"
      ]
     },
     "execution_count": 155,
     "metadata": {},
     "output_type": "execute_result"
    }
   ],
   "source": [
    "# Saving BoW matrix for future use.\n",
    "from sklearn.externals import joblib\n",
    "joblib.dump(x_train_BOW, 'x_train_BOW.joblib')\n",
    "joblib.dump(x_CV_BOW, 'x_CV_BOW.joblib')\n",
    "joblib.dump(x_test_BOW, 'x_test_BOW.joblib')"
   ]
  },
  {
   "cell_type": "markdown",
   "metadata": {},
   "source": [
    "# TF-IDF implementation for Feature Matrix"
   ]
  },
  {
   "cell_type": "code",
   "execution_count": 156,
   "metadata": {},
   "outputs": [],
   "source": [
    "# Making a tf_idf vector. Taking max_features = 2000 and min_df=10 as obtained from literature.\n",
    "tf_idf_vect = TfidfVectorizer(ngram_range=(1,2),max_features = 500, min_df=10)\n",
    "x_train_TFIDF = tf_idf_vect.fit_transform(X_tr['CleanedText'].values)\n",
    "x_CV_TFIDF = tf_idf_vect.transform(X_cv['CleanedText'].values)\n",
    "x_test_TFIDF = tf_idf_vect.transform(X_test['CleanedText'].values)"
   ]
  },
  {
   "cell_type": "code",
   "execution_count": 157,
   "metadata": {},
   "outputs": [
    {
     "data": {
      "text/plain": [
       "['x_test_TFIDF.joblib']"
      ]
     },
     "execution_count": 157,
     "metadata": {},
     "output_type": "execute_result"
    }
   ],
   "source": [
    "# Saving TF-IDF matrix for future use.\n",
    "from sklearn.externals import joblib\n",
    "joblib.dump(x_train_TFIDF, 'x_train_TFIDF.joblib')\n",
    "joblib.dump(x_CV_TFIDF, 'x_CV_TFIDF.joblib')\n",
    "joblib.dump(x_test_TFIDF, 'x_test_TFIDF.joblib')"
   ]
  },
  {
   "cell_type": "markdown",
   "metadata": {},
   "source": [
    "# W2V"
   ]
  },
  {
   "cell_type": "code",
   "execution_count": 158,
   "metadata": {},
   "outputs": [],
   "source": [
    "# Train your own Word2Vec model using your own text corpus\n",
    "# For train data\n",
    "i=0\n",
    "list_of_TRsent=[]\n",
    "for sent in X_tr['CleanedText'].values:\n",
    "    list_of_TRsent.append(sent.split())"
   ]
  },
  {
   "cell_type": "code",
   "execution_count": 159,
   "metadata": {
    "scrolled": true
   },
   "outputs": [
    {
     "name": "stdout",
     "output_type": "stream",
     "text": [
      "[('fantast', 0.7874695062637329), ('good', 0.7797299027442932), ('wonder', 0.7754559516906738), ('terrif', 0.7664797902107239), ('excel', 0.759041428565979), ('awesom', 0.7353023290634155), ('perfect', 0.7151850461959839), ('amaz', 0.7119743824005127), ('delici', 0.6813862323760986), ('nice', 0.6731066107749939)]\n",
      "==================================================\n",
      "[('closest', 0.8223670125007629), ('nicest', 0.7892237901687622), ('softest', 0.7618529200553894), ('youv', 0.7493711709976196), ('heard', 0.7432776093482971), ('aw', 0.7379869222640991), ('best', 0.7372144460678101), ('greatest', 0.7350585460662842), ('disgust', 0.7177849411964417), ('accus', 0.7144206166267395)]\n"
     ]
    }
   ],
   "source": [
    "# Using Google News Word2Vectors\n",
    "\n",
    "is_your_ram_gt_16g=False\n",
    "want_to_use_google_w2v = False\n",
    "want_to_train_w2v = True\n",
    "\n",
    "if want_to_train_w2v:\n",
    "    # min_count = 5 considers only words that occured atleast 5 times\n",
    "    w2v_model=Word2Vec(list_of_TRsent,min_count=5,size=50, workers=8)\n",
    "    print(w2v_model.wv.most_similar('great'))\n",
    "    print('='*50)\n",
    "    print(w2v_model.wv.most_similar('worst'))\n",
    "    \n",
    "elif want_to_use_google_w2v and is_your_ram_gt_16g:\n",
    "    if os.path.isfile('/home/coea/HJpro-env/GoogleNews-vectors-negative300.bin'):\n",
    "        w2v_model=KeyedVectors.load_word2vec_format('GoogleNews-vectors-negative300.bin', binary=True)\n",
    "        print(w2v_model.wv.most_similar('great'))\n",
    "        print(w2v_model.wv.most_similar('worst'))\n",
    "    else:\n",
    "        print(\"you don't have gogole's word2vec file, keep want_to_train_w2v = True, to train your own w2v \")"
   ]
  },
  {
   "cell_type": "code",
   "execution_count": 160,
   "metadata": {},
   "outputs": [
    {
     "name": "stdout",
     "output_type": "stream",
     "text": [
      "number of words that occured minimum 5 times  6909\n",
      "sample words  ['like', 'hot', 'stuff', 'thing', 'killer', 'put', 'tini', 'dab', 'toothpick', 'sick', 'rest', 'day', 'even', 'though', 'write', 'review', 'most', 'favorit', 'type', 'escap', 'novel', 'spark', 'amazon', 'enthusiasm', 'take', 'part', 'groceri', 'store', 'gourmet', 'food', 'expans', 'first', 'purchas', 'product', 'beyond', 'book', 'includ', 'grain', 'call', 'quinoa', 'arriv', 'good', 'order', 'within', 'perfect', 'time', 'maiden', 'also', 'ad', 'lavend']\n"
     ]
    }
   ],
   "source": [
    "w2v_words = list(w2v_model.wv.vocab)\n",
    "print(\"number of words that occured minimum 5 times \",len(w2v_words))\n",
    "print(\"sample words \", w2v_words[0:50])"
   ]
  },
  {
   "cell_type": "markdown",
   "metadata": {},
   "source": [
    "# Avg W2V implementation for Feature Matrix"
   ]
  },
  {
   "cell_type": "code",
   "execution_count": 161,
   "metadata": {},
   "outputs": [],
   "source": [
    "# For CV data\n",
    "list_of_CVsent=[]\n",
    "for sent in X_cv['CleanedText'].values:\n",
    "    list_of_CVsent.append(sent.split())\n",
    "    \n",
    "# For test data\n",
    "list_of_TSsent=[]\n",
    "for sent in X_test['CleanedText'].values:\n",
    "    list_of_TSsent.append(sent.split())"
   ]
  },
  {
   "cell_type": "code",
   "execution_count": 162,
   "metadata": {},
   "outputs": [],
   "source": [
    "# average Word2Vec\n",
    "# compute average word2vec for each review.\n",
    "w2v_words = list(w2v_model.wv.vocab)\n",
    "def Avg_W2V(list_of_sent):   \n",
    "    sent_vectors = []; # the avg-w2v for each sentence/review is stored in this list\n",
    "    for sent in list_of_sent: # for each review/sentence\n",
    "        sent_vec = np.zeros(50) # as word vectors are of zero length\n",
    "        cnt_words =0; # num of words with a valid vector in the sentence/review\n",
    "        for word in sent: # for each word in a review/sentence\n",
    "            if word in w2v_words:\n",
    "                vec = w2v_model.wv[word]\n",
    "                sent_vec += vec\n",
    "                cnt_words += 1\n",
    "        if cnt_words != 0:\n",
    "            sent_vec /= cnt_words\n",
    "        sent_vectors.append(sent_vec)\n",
    "    return(sent_vectors)"
   ]
  },
  {
   "cell_type": "code",
   "execution_count": 163,
   "metadata": {},
   "outputs": [],
   "source": [
    "x_train_AVG_W2V = Avg_W2V(list_of_TRsent)\n",
    "x_CV_AVG_W2V = Avg_W2V(list_of_CVsent)\n",
    "x_test_AVG_W2V = Avg_W2V(list_of_TSsent)"
   ]
  },
  {
   "cell_type": "code",
   "execution_count": 164,
   "metadata": {},
   "outputs": [],
   "source": [
    "x_train_AVG_W2V = pd.DataFrame(x_train_AVG_W2V)\n",
    "x_CV_AVG_W2V = pd.DataFrame(x_CV_AVG_W2V)\n",
    "x_test_AVG_W2V = pd.DataFrame(x_test_AVG_W2V)"
   ]
  },
  {
   "cell_type": "code",
   "execution_count": 165,
   "metadata": {},
   "outputs": [
    {
     "data": {
      "text/plain": [
       "['x_test_AVG_W2V.joblib']"
      ]
     },
     "execution_count": 165,
     "metadata": {},
     "output_type": "execute_result"
    }
   ],
   "source": [
    "# Saving Avg W2V matrix for future use.\n",
    "from sklearn.externals import joblib\n",
    "joblib.dump(x_train_AVG_W2V, 'x_train_AVG_W2V.joblib')\n",
    "joblib.dump(x_CV_AVG_W2V, 'x_CV_AVG_W2V.joblib')\n",
    "joblib.dump(x_test_AVG_W2V, 'x_test_AVG_W2V.joblib')"
   ]
  },
  {
   "cell_type": "markdown",
   "metadata": {},
   "source": [
    "# TFIDF weighted W2V implementation for Feature Matrix"
   ]
  },
  {
   "cell_type": "code",
   "execution_count": 166,
   "metadata": {},
   "outputs": [],
   "source": [
    "# Making a tf_idf vector. Taking max_features = 2000 and min_df=50 as obtained from literature.\n",
    "tf_idf_vect = TfidfVectorizer(ngram_range=(1,2),max_features = 500, min_df=10)\n",
    "x_train_TFIDF = tf_idf_vect.fit_transform(X_tr['CleanedText'].values)\n",
    "x_CV_TFIDF = tf_idf_vect.transform(X_cv['CleanedText'].values)\n",
    "x_test_TFIDF = tf_idf_vect.transform(X_test['CleanedText'].values)"
   ]
  },
  {
   "cell_type": "code",
   "execution_count": 167,
   "metadata": {},
   "outputs": [],
   "source": [
    "# we are converting a dictionary with word as a key, and the idf as a value\n",
    "dictionary = dict(zip(tf_idf_vect.get_feature_names(), list(tf_idf_vect.idf_)))"
   ]
  },
  {
   "cell_type": "code",
   "execution_count": 168,
   "metadata": {},
   "outputs": [],
   "source": [
    "# Train your own TFIDF weighted W2V model using your own text corpus\n",
    "# For train data\n",
    "i=0\n",
    "list_of_TRsent=[]\n",
    "for sent in X_tr['CleanedText'].values:\n",
    "    list_of_TRsent.append(sent.split())"
   ]
  },
  {
   "cell_type": "code",
   "execution_count": 169,
   "metadata": {},
   "outputs": [],
   "source": [
    "# For CV data\n",
    "list_of_CVsent=[]\n",
    "for sent in X_cv['CleanedText'].values:\n",
    "    list_of_CVsent.append(sent.split())\n",
    "    \n",
    "# For test data\n",
    "list_of_TSsent=[]\n",
    "for sent in X_test['CleanedText'].values:\n",
    "    list_of_TSsent.append(sent.split())"
   ]
  },
  {
   "cell_type": "code",
   "execution_count": 170,
   "metadata": {
    "scrolled": true
   },
   "outputs": [],
   "source": [
    "# TF-IDF weighted Word2Vec\n",
    "tfidf_feat = tf_idf_vect.get_feature_names() # tfidf words/col-names\n",
    "# final_tf_idf is the sparse matrix with row= sentence, col=word and cell_val = tfidf\n",
    "\n",
    "def AVG_TFIDF_W2V(list_of_sentence):\n",
    "    tfidf_sent_vectors = []; # the tfidf-w2v for each sentence/review is stored in this list\n",
    "    row=0;\n",
    "    for sent in tqdm(list_of_sentence): # for each review/sentence \n",
    "        sent_vec = np.zeros(50) # as word vectors are of zero length\n",
    "        weight_sum =0; # num of words with a valid vector in the sentence/review\n",
    "        for word in sent: # for each word in a review/sentence\n",
    "            if word in w2v_words and word in tfidf_feat:\n",
    "                vec = w2v_model.wv[word]\n",
    "    #             tf_idf = tf_idf_matrix[row, tfidf_feat.index(word)]\n",
    "                # to reduce the computation we are \n",
    "                # dictionary[word] = idf value of word in whole courpus\n",
    "                # sent.count(word) = tf valeus of word in this review\n",
    "                tf_idf = dictionary[word]*(sent.count(word)/len(sent))\n",
    "                sent_vec += (vec * tf_idf)\n",
    "                weight_sum += tf_idf\n",
    "        if weight_sum != 0:\n",
    "            sent_vec /= weight_sum\n",
    "        tfidf_sent_vectors.append(sent_vec)\n",
    "        row += 1\n",
    "    return(tfidf_sent_vectors)"
   ]
  },
  {
   "cell_type": "code",
   "execution_count": 171,
   "metadata": {},
   "outputs": [
    {
     "name": "stderr",
     "output_type": "stream",
     "text": [
      "100%|██████████| 25600/25600 [00:19<00:00, 1337.82it/s]\n",
      "100%|██████████| 6400/6400 [00:04<00:00, 1359.36it/s]\n",
      "100%|██████████| 8000/8000 [00:05<00:00, 1334.99it/s]\n"
     ]
    }
   ],
   "source": [
    "x_train_AVG_W2V = AVG_TFIDF_W2V(list_of_TRsent)\n",
    "x_CV_AVG_W2V = AVG_TFIDF_W2V(list_of_CVsent)\n",
    "x_test_AVG_W2V = AVG_TFIDF_W2V(list_of_TSsent)"
   ]
  },
  {
   "cell_type": "code",
   "execution_count": 172,
   "metadata": {},
   "outputs": [],
   "source": [
    "x_train_AVG_TFIDF_weighted_W2V = pd.DataFrame(x_train_AVG_W2V)\n",
    "x_CV_AVG_TFIDF_weighted_W2V = pd.DataFrame(x_CV_AVG_W2V)\n",
    "x_test_AVG_TFIDF_weighted_W2V = pd.DataFrame(x_test_AVG_W2V)"
   ]
  },
  {
   "cell_type": "code",
   "execution_count": 173,
   "metadata": {},
   "outputs": [
    {
     "data": {
      "text/plain": [
       "['x_test_AVG_TFIDF_weighted_W2V.joblib']"
      ]
     },
     "execution_count": 173,
     "metadata": {},
     "output_type": "execute_result"
    }
   ],
   "source": [
    "# Saving TFIDF weighted W2V matrix for future use.\n",
    "from sklearn.externals import joblib\n",
    "joblib.dump(x_train_AVG_TFIDF_weighted_W2V, 'x_train_AVG_TFIDF_weighted_W2V.joblib')\n",
    "joblib.dump(x_CV_AVG_TFIDF_weighted_W2V, 'x_CV_AVG_TFIDF_weighted_W2V.joblib')\n",
    "joblib.dump(x_test_AVG_TFIDF_weighted_W2V, 'x_test_AVG_TFIDF_weighted_W2V.joblib')"
   ]
  },
  {
   "cell_type": "markdown",
   "metadata": {},
   "source": [
    "# Applying SVM"
   ]
  },
  {
   "cell_type": "markdown",
   "metadata": {},
   "source": [
    "## [5.1] Linear SVM"
   ]
  },
  {
   "cell_type": "markdown",
   "metadata": {},
   "source": [
    "### [5.1.1] Applying Linear SVM on BOW,<font color='red'> SET 1</font>"
   ]
  },
  {
   "cell_type": "code",
   "execution_count": 2,
   "metadata": {},
   "outputs": [],
   "source": [
    "# Reading the previously created BoW100k feature matirx.\n",
    "x_trBOW = joblib.load('x_train_BOW.joblib')\n",
    "x_CVBOW = joblib.load('x_CV_BOW.joblib')\n",
    "x_tsBOW = joblib.load('x_test_BOW.joblib')\n",
    "# x_trBOW x_CVBOW x_tsBOW\n",
    "\n",
    "# Reading the previously created dependent matrix\n",
    "y_tr = joblib.load('y_tr.joblib')\n",
    "y_CV = joblib.load('y_cv.joblib')\n",
    "y_test = joblib.load('y_test.joblib')\n",
    "# y_tr y_CV y_test\n",
    "\n",
    "# Label encoding\n",
    "y_tr = np.array(pd.get_dummies(y_tr,drop_first=True))\n",
    "y_CV = np.array(pd.get_dummies(y_CV,drop_first=True))\n",
    "y_test = np.array(pd.get_dummies(y_test,drop_first=True))\n",
    "\n",
    "# Reshaping\n",
    "y_tr = y_tr.reshape(y_tr.shape[0])\n",
    "y_CV = y_CV.reshape(y_CV.shape[0])\n",
    "y_test = y_test.reshape(y_test.shape[0])"
   ]
  },
  {
   "cell_type": "code",
   "execution_count": 3,
   "metadata": {},
   "outputs": [
    {
     "name": "stderr",
     "output_type": "stream",
     "text": [
      "100%|██████████| 9/9 [00:41<00:00,  4.88s/it]\n"
     ]
    }
   ],
   "source": [
    "cv_scores = {}\n",
    "TR_scores = {}\n",
    "alpha = [10e-4,10e-3,10e-2,10e-1,10e0,10e1,10e2,10e3,10e4]\n",
    "regularizer = ['l2','l1']\n",
    "for i in tqdm(alpha):\n",
    "    for j in regularizer:\n",
    "        # instantiate learning model\n",
    "        model = linear_model.SGDClassifier(loss='hinge', alpha=i, penalty=j, n_jobs = -1)\n",
    "        model.fit(x_trBOW, y_tr) # fitting the model on train data\n",
    "        train_pred = model.predict(x_trBOW) # predict the response on the train data\n",
    "        pred = model.predict(x_CVBOW) # predict the response on the cross-validation data\n",
    "        \n",
    "        # evaluate train AUC\n",
    "        fpr, tpr, thresholds = metrics.roc_curve(y_tr, train_pred)\n",
    "        train_AUC = metrics.auc(fpr, tpr)\n",
    "        # evaluate CV AUC\n",
    "        fpr, tpr, thresholds = metrics.roc_curve(y_CV, pred)\n",
    "        CV_AUC = metrics.auc(fpr, tpr)\n",
    "\n",
    "        #print('\\nCV AUC for max_depth =',i,'and min_samples_split = ',j,'is',CV_AUC)\n",
    "        cv_scores.update({(i,j):CV_AUC})\n",
    "        TR_scores.update({(i,j):train_AUC})"
   ]
  },
  {
   "cell_type": "code",
   "execution_count": 4,
   "metadata": {},
   "outputs": [
    {
     "data": {
      "text/plain": [
       "['TR_scores_SVM_BOW.joblib']"
      ]
     },
     "execution_count": 4,
     "metadata": {},
     "output_type": "execute_result"
    }
   ],
   "source": [
    "# Saving the scores obtained on train data and cross validation data. \n",
    "from sklearn.externals import joblib\n",
    "joblib.dump(cv_scores, 'cv_scores_SVM_BOW.joblib')\n",
    "joblib.dump(TR_scores, 'TR_scores_SVM_BOW.joblib')"
   ]
  },
  {
   "cell_type": "code",
   "execution_count": 5,
   "metadata": {},
   "outputs": [],
   "source": [
    "cv_scores = joblib.load('cv_scores_SVM_BOW.joblib')\n",
    "TR_scores = joblib.load('TR_scores_SVM_BOW.joblib')"
   ]
  },
  {
   "cell_type": "code",
   "execution_count": 6,
   "metadata": {},
   "outputs": [
    {
     "data": {
      "text/plain": [
       "(0.7255296759372318, (0.001, 'l2'))"
      ]
     },
     "execution_count": 6,
     "metadata": {},
     "output_type": "execute_result"
    }
   ],
   "source": [
    "max(zip(cv_scores.values(), cv_scores.keys()))  "
   ]
  },
  {
   "cell_type": "markdown",
   "metadata": {},
   "source": [
    "#### Observations: 0.72552 is the highest AUC with alpha = 0.001 and penalty = 'l2'. The AUC for the various combination of the alpha and penalty is varying respectively."
   ]
  },
  {
   "cell_type": "markdown",
   "metadata": {},
   "source": [
    "### Plot of AUC w.r.t. alpha and penalty value on training and cross validation data."
   ]
  },
  {
   "cell_type": "code",
   "execution_count": 8,
   "metadata": {},
   "outputs": [
    {
     "data": {
      "image/png": "[encoded data removed]",
      "text/plain": [
       "<Figure size 432x288 with 1 Axes>"
      ]
     },
     "metadata": {
      "needs_background": "light"
     },
     "output_type": "display_data"
    }
   ],
   "source": [
    "# Plot of AUC w.r.t. alpha on training and cross validation data\n",
    "cv_scores = joblib.load('cv_scores_SVM_BOW.joblib')\n",
    "TR_scores = joblib.load('TR_scores_SVM_BOW.joblib')\n",
    "\n",
    "TR_alpha = [10e-4,10e-3,10e-2,10e-1,10e0,10e1,10e2,10e3,10e4]\n",
    "TR_values = [np.array([TR_scores[i] for i in TR_scores.keys() if i[0]==k]).max() for k in TR_alpha]\n",
    "plt.plot(TR_alpha, TR_values, label = 'Training AUC')\n",
    "\n",
    "\n",
    "CV_alpha = [10e-4,10e-3,10e-2,10e-1,10e0,10e1,10e2,10e3,10e4]\n",
    "CV_values = [np.array([cv_scores[i] for i in cv_scores.keys() if i[0]==k]).max() for k in CV_alpha]\n",
    "plt.plot(CV_alpha, CV_values, label = 'Cross Validation AUC')\n",
    "\n",
    "plt.xlabel('alpha')\n",
    "plt.ylabel('AUC');\n",
    "plt.legend()\n",
    "plt.show()"
   ]
  },
  {
   "cell_type": "code",
   "execution_count": 11,
   "metadata": {},
   "outputs": [
    {
     "data": {
      "image/png": "[encoded data removed]",
      "text/plain": [
       "<Figure size 432x288 with 1 Axes>"
      ]
     },
     "metadata": {
      "needs_background": "light"
     },
     "output_type": "display_data"
    }
   ],
   "source": [
    "# Plot of AUC w.r.t. penalty on training and cross validation data\n",
    "cv_scores = joblib.load('cv_scores_SVM_BOW.joblib')\n",
    "TR_scores = joblib.load('TR_scores_SVM_BOW.joblib')\n",
    "\n",
    "TR_regularizer = ['l2','l1']\n",
    "TR_values = [np.array([TR_scores[i] for i in TR_scores.keys() if i[1]==k]).max() for k in TR_regularizer]\n",
    "plt.plot(TR_regularizer, TR_values, label = 'Training AUC')\n",
    "\n",
    "\n",
    "CV_regularizer = ['l2','l1']\n",
    "CV_values = [np.array([cv_scores[i] for i in cv_scores.keys() if i[1]==k]).max() for k in CV_regularizer]\n",
    "plt.plot(CV_regularizer,CV_values, label = 'Cross Validation AUC')\n",
    "\n",
    "plt.xlabel('regularizer')\n",
    "plt.ylabel('AUC');\n",
    "plt.legend()\n",
    "plt.show()"
   ]
  },
  {
   "cell_type": "code",
   "execution_count": 13,
   "metadata": {},
   "outputs": [],
   "source": [
    "# # Plot of AUC w.r.t. alpha and penalty value on training and cross validation data\n",
    "# cv_scores = joblib.load('cv_scores_SVM_BOW.joblib')\n",
    "# TR_scores = joblib.load('TR_scores_SVM_BOW.joblib')\n",
    "\n",
    "# fig = plt.figure(figsize=(8,7))\n",
    "# a = list(TR_scores.keys())\n",
    "# TR_alpha = [i[0] for i in a]\n",
    "# TR_regularizer = [i[1] for i in a]\n",
    "# TR_values = list(TR_scores.values())\n",
    "# ax = plt.axes(projection='3d')\n",
    "# ax.scatter3D(TR_alpha, TR_regularizer, TR_values, c=TR_values, cmap='Blues', label = 'Training AUC');\n",
    "\n",
    "# a = list(cv_scores.keys())\n",
    "# CV_alpha = [i[0] for i in a]\n",
    "# CV_regularizer = [i[1] for i in a]\n",
    "# CV_values = list(cv_scores.values())\n",
    "# ax.scatter3D(CV_alpha, CV_regularizer, CV_values, c=CV_values, cmap='Reds', label = 'Cross Validation AUC');\n",
    "\n",
    "# ax.set_xlabel('alpha')\n",
    "# ax.set_ylabel('regularizer')\n",
    "# ax.set_zlabel('AUC');\n",
    "# ax.legend()\n",
    "# plt.show()"
   ]
  },
  {
   "cell_type": "code",
   "execution_count": 14,
   "metadata": {},
   "outputs": [],
   "source": [
    "# Testing on test data for best alpha and regularizer value obtained from simple cross validation\n",
    "model = linear_model.SGDClassifier(loss='hinge', alpha=0.001, penalty='l2', n_jobs = -1)\n",
    "model.fit(x_trBOW, y_tr)\n",
    "train_pred = model.predict(x_trBOW)"
   ]
  },
  {
   "cell_type": "markdown",
   "metadata": {},
   "source": [
    "### Receiver Operating Characteristic (ROC) Train data "
   ]
  },
  {
   "cell_type": "code",
   "execution_count": 15,
   "metadata": {},
   "outputs": [
    {
     "data": {
      "text/plain": [
       "<matplotlib.legend.Legend at 0x7f13a41cbc88>"
      ]
     },
     "execution_count": 15,
     "metadata": {},
     "output_type": "execute_result"
    },
    {
     "data": {
      "image/png": "[encoded data removed]",
      "text/plain": [
       "<Figure size 432x288 with 1 Axes>"
      ]
     },
     "metadata": {
      "needs_background": "light"
     },
     "output_type": "display_data"
    }
   ],
   "source": [
    "fpr, tpr, thresholds = metrics.roc_curve(y_tr, train_pred)\n",
    "roc_auc = auc(fpr, tpr)\n",
    "# Plot ROC curve\n",
    "plt.plot(fpr, tpr, label='ROC curve (area = %0.3f)' % roc_auc)\n",
    "plt.plot([0, 1], [0, 1], 'k--')  # random predictions curve\n",
    "plt.xlim([0.0, 1.0])\n",
    "plt.ylim([0.0, 1.0])\n",
    "plt.xlabel('False Positive Rate or (1 - Specifity)')\n",
    "plt.ylabel('True Positive Rate or (Sensitivity)')\n",
    "plt.title('Receiver Operating Characteristic')\n",
    "plt.legend(loc=\"lower right\")"
   ]
  },
  {
   "cell_type": "markdown",
   "metadata": {},
   "source": [
    "### Receiver Operating Characteristic (ROC) Test data"
   ]
  },
  {
   "cell_type": "code",
   "execution_count": 16,
   "metadata": {},
   "outputs": [
    {
     "data": {
      "text/plain": [
       "0.6981266195059656"
      ]
     },
     "execution_count": 16,
     "metadata": {},
     "output_type": "execute_result"
    }
   ],
   "source": [
    "pred = model.predict(x_tsBOW)\n",
    "fpr, tpr, thresholds = metrics.roc_curve(y_test, pred)\n",
    "metrics.auc(fpr, tpr)"
   ]
  },
  {
   "cell_type": "code",
   "execution_count": 17,
   "metadata": {},
   "outputs": [
    {
     "data": {
      "text/plain": [
       "<matplotlib.legend.Legend at 0x7f13a4130278>"
      ]
     },
     "execution_count": 17,
     "metadata": {},
     "output_type": "execute_result"
    },
    {
     "data": {
      "image/png": "[encoded data removed]",
      "text/plain": [
       "<Figure size 432x288 with 1 Axes>"
      ]
     },
     "metadata": {
      "needs_background": "light"
     },
     "output_type": "display_data"
    }
   ],
   "source": [
    "fpr, tpr, thresholds = metrics.roc_curve(y_test, pred)\n",
    "roc_auc = auc(fpr, tpr)\n",
    "# Plot ROC curve\n",
    "plt.plot(fpr, tpr, label='ROC curve (area = %0.3f)' % roc_auc)\n",
    "plt.plot([0, 1], [0, 1], 'k--')  # random predictions curve\n",
    "plt.xlim([0.0, 1.0])\n",
    "plt.ylim([0.0, 1.0])\n",
    "plt.xlabel('False Positive Rate or (1 - Specifity)')\n",
    "plt.ylabel('True Positive Rate or (Sensitivity)')\n",
    "plt.title('Receiver Operating Characteristic')\n",
    "plt.legend(loc=\"lower right\")"
   ]
  },
  {
   "cell_type": "markdown",
   "metadata": {},
   "source": [
    "#### Observation: From simple cross validation we found the best alpha and regularizer to be 0.001, 'l2' and AUC decreases as we increase alpha from 0.001. The test AUC for alpha = 0.001and regularizer = 'l2'  is 0.69812, stating the model did not overfit."
   ]
  },
  {
   "cell_type": "markdown",
   "metadata": {},
   "source": [
    "### Performance metrics of classification for train and test data"
   ]
  },
  {
   "cell_type": "code",
   "execution_count": 18,
   "metadata": {},
   "outputs": [
    {
     "data": {
      "image/png": "[encoded data removed]",
      "text/plain": [
       "<Figure size 432x288 with 1 Axes>"
      ]
     },
     "metadata": {
      "needs_background": "light"
     },
     "output_type": "display_data"
    }
   ],
   "source": [
    "# Testing on train data for best alpha and regularizer obtained from simple cross validation\n",
    "train_pred = model.predict(x_trBOW)\n",
    "# confusion matrix for train data\n",
    "mat = confusion_matrix(y_tr, train_pred)\n",
    "target_names = ['Positive', 'Negative']\n",
    "sns.heatmap(mat.T, square=True, annot=True, fmt='d', cbar=False,\n",
    "            xticklabels=target_names, yticklabels=target_names)\n",
    "plt.xlabel('True label')\n",
    "plt.ylabel('Predicted label');"
   ]
  },
  {
   "cell_type": "code",
   "execution_count": 19,
   "metadata": {},
   "outputs": [
    {
     "data": {
      "text/plain": [
       "array([[  998,  1456],\n",
       "       [  183, 17363]])"
      ]
     },
     "execution_count": 19,
     "metadata": {},
     "output_type": "execute_result"
    }
   ],
   "source": [
    "# confusion matrix for test data\n",
    "confusion_matrix(y_test, pred)"
   ]
  },
  {
   "cell_type": "code",
   "execution_count": 20,
   "metadata": {},
   "outputs": [
    {
     "data": {
      "image/png": "[encoded data removed]",
      "text/plain": [
       "<Figure size 432x288 with 1 Axes>"
      ]
     },
     "metadata": {
      "needs_background": "light"
     },
     "output_type": "display_data"
    }
   ],
   "source": [
    "mat = confusion_matrix(y_test, pred)\n",
    "target_names = ['Positive', 'Negative']\n",
    "sns.heatmap(mat.T, square=True, annot=True, fmt='d', cbar=False,\n",
    "            xticklabels=target_names, yticklabels=target_names)\n",
    "plt.xlabel('True label')\n",
    "plt.ylabel('Predicted label');"
   ]
  },
  {
   "cell_type": "markdown",
   "metadata": {},
   "source": [
    "#### Observations: Correctly classified points in the test data are 18361 ( = 998 + 17363) from confusion matrix and misclassified points are 1639 ( = 183+1456)"
   ]
  },
  {
   "cell_type": "markdown",
   "metadata": {},
   "source": [
    "### [5.1.2] Wordcloud of top 20 important features from SET 1"
   ]
  },
  {
   "cell_type": "code",
   "execution_count": 30,
   "metadata": {},
   "outputs": [],
   "source": [
    "top_features = 20\n",
    "feature_names = count_vect.get_feature_names()\n",
    "coef = model.coef_.ravel()\n",
    "top_positive_coefficients = np.argsort(coef)[-top_features:]\n",
    "top_negative_coefficients = np.argsort(coef)[:top_features]\n",
    "\n",
    "# positive class important words\n",
    "POS_importance_feature = {}\n",
    "for x in range(len(top_positive_coefficients)):\n",
    "    name = feature_names[top_positive_coefficients[x]]\n",
    "    importance = coef[top_positive_coefficients[x]]\n",
    "    POS_importance_feature.update({name:importance})\n",
    "    \n",
    "# negative class important words\n",
    "NEG_importance_feature = {}\n",
    "for x in range(len(top_negative_coefficients)):\n",
    "    name = feature_names[top_negative_coefficients[x]]\n",
    "    importance = (coef[top_negative_coefficients[x]])*-1\n",
    "    NEG_importance_feature.update({name:importance})"
   ]
  },
  {
   "cell_type": "markdown",
   "metadata": {},
   "source": [
    "#### Wordcloud for positive class"
   ]
  },
  {
   "cell_type": "code",
   "execution_count": 66,
   "metadata": {},
   "outputs": [
    {
     "data": {
      "image/png": "[encoded data removed]",
      "text/plain": [
       "<Figure size 1080x576 with 1 Axes>"
      ]
     },
     "metadata": {
      "needs_background": "light"
     },
     "output_type": "display_data"
    }
   ],
   "source": [
    "imp = list(POS_importance_feature)\n",
    "imp.sort(reverse=True)\n",
    "\n",
    "#from operator import itemgetter\n",
    "imp_feature = dict(sorted(POS_importance_feature.items(), key=itemgetter(1), reverse=True)[:20])\n",
    "#from wordcloud import WordCloud\n",
    "\n",
    "#convert list to string and generate\n",
    "unique_string=(\" \").join([i[0] for i in imp_feature])\n",
    "wordcloud = WordCloud(width = 700, height = 300).fit_words(imp_feature)\n",
    "plt.figure(figsize=(15,8))\n",
    "plt.imshow(wordcloud)\n",
    "plt.axis(\"off\")\n",
    "#plt.savefig(\"your_file_name\"+\".png\", bbox_inches='tight')\n",
    "plt.show()\n",
    "plt.close()"
   ]
  },
  {
   "cell_type": "markdown",
   "metadata": {},
   "source": [
    "#### Wordcloud for negative class"
   ]
  },
  {
   "cell_type": "code",
   "execution_count": 68,
   "metadata": {},
   "outputs": [
    {
     "data": {
      "image/png": "[encoded data removed]",
      "text/plain": [
       "<Figure size 1080x576 with 1 Axes>"
      ]
     },
     "metadata": {
      "needs_background": "light"
     },
     "output_type": "display_data"
    }
   ],
   "source": [
    "imp = list(NEG_importance_feature)\n",
    "imp.sort(reverse=True)\n",
    "\n",
    "#from operator import itemgetter\n",
    "imp_feature = dict(sorted(NEG_importance_feature.items(), key=itemgetter(1), reverse=True)[:20])\n",
    "\n",
    "#from wordcloud import WordCloud\n",
    "\n",
    "#convert list to string and generate\n",
    "unique_string=(\" \").join([i[0] for i in imp_feature])\n",
    "wordcloud = WordCloud(width = 700, height = 300).fit_words(imp_feature)\n",
    "plt.figure(figsize=(15,8))\n",
    "plt.imshow(wordcloud)\n",
    "plt.axis(\"off\")\n",
    "#plt.savefig(\"your_file_name\"+\".png\", bbox_inches='tight')\n",
    "plt.show()\n",
    "plt.close()"
   ]
  },
  {
   "cell_type": "markdown",
   "metadata": {},
   "source": [
    "### [5.1.2] Applying Linear SVM on TFIDF,<font color='red'> SET 2</font>"
   ]
  },
  {
   "cell_type": "code",
   "execution_count": 69,
   "metadata": {},
   "outputs": [],
   "source": [
    "# Reading the previously created BoW100k feature matirx.\n",
    "x_trTFIDF = joblib.load('x_train_TFIDF.joblib')\n",
    "x_CVTFIDF = joblib.load('x_CV_TFIDF.joblib')\n",
    "x_tsTFIDF = joblib.load('x_test_TFIDF.joblib')\n",
    "# x_trTFIDF x_CVTFIDF x_tsTFIDF\n",
    "\n",
    "# Reading the previously created dependent matrix\n",
    "y_tr = joblib.load('y_tr.joblib')\n",
    "y_CV = joblib.load('y_cv.joblib')\n",
    "y_test = joblib.load('y_test.joblib')\n",
    "# y_tr y_CV y_test\n",
    "\n",
    "# label encoding\n",
    "y_tr = np.array(pd.get_dummies(y_tr,drop_first=True))\n",
    "y_CV = np.array(pd.get_dummies(y_CV,drop_first=True))\n",
    "y_test = np.array(pd.get_dummies(y_test,drop_first=True))\n",
    "\n",
    "# Reshaping\n",
    "y_tr = y_tr.reshape(y_tr.shape[0])\n",
    "y_CV = y_CV.reshape(y_CV.shape[0])\n",
    "y_test = y_test.reshape(y_test.shape[0])"
   ]
  },
  {
   "cell_type": "code",
   "execution_count": 70,
   "metadata": {},
   "outputs": [
    {
     "name": "stderr",
     "output_type": "stream",
     "text": [
      "100%|██████████| 9/9 [00:01<00:00,  6.40it/s]\n"
     ]
    }
   ],
   "source": [
    "cv_scores = {}\n",
    "TR_scores = {}\n",
    "alpha = [10e-4,10e-3,10e-2,10e-1,10e0,10e1,10e2,10e3,10e4]\n",
    "regularizer = ['l2','l1']\n",
    "for i in tqdm(alpha):\n",
    "    for j in regularizer:\n",
    "        # instantiate learning model\n",
    "        model = linear_model.SGDClassifier(loss='hinge', alpha=i, penalty=j, n_jobs = -1)\n",
    "        model.fit(x_trTFIDF, y_tr) # fitting the model on train data\n",
    "        train_pred = model.predict(x_trTFIDF) # predict the response on the train data\n",
    "        pred = model.predict(x_CVTFIDF) # predict the response on the cross-validation data\n",
    "        \n",
    "        # evaluate train AUC\n",
    "        fpr, tpr, thresholds = metrics.roc_curve(y_tr, train_pred)\n",
    "        train_AUC = metrics.auc(fpr, tpr)\n",
    "        # evaluate CV AUC\n",
    "        fpr, tpr, thresholds = metrics.roc_curve(y_CV, pred)\n",
    "        CV_AUC = metrics.auc(fpr, tpr)\n",
    "\n",
    "        #print('\\nCV AUC for max_depth =',i,'and min_samples_split = ',j,'is',CV_AUC)\n",
    "        cv_scores.update({(i,j):CV_AUC})\n",
    "        TR_scores.update({(i,j):train_AUC})"
   ]
  },
  {
   "cell_type": "code",
   "execution_count": 73,
   "metadata": {},
   "outputs": [
    {
     "data": {
      "text/plain": [
       "['TR_scores_SVM_TFIDF.joblib']"
      ]
     },
     "execution_count": 73,
     "metadata": {},
     "output_type": "execute_result"
    }
   ],
   "source": [
    "# Saving the scores obtained on train data and cross validation data. \n",
    "from sklearn.externals import joblib\n",
    "joblib.dump(cv_scores, 'cv_scores_SVM_TFIDF.joblib')\n",
    "joblib.dump(TR_scores, 'TR_scores_SVM_TFIDF.joblib')"
   ]
  },
  {
   "cell_type": "code",
   "execution_count": 74,
   "metadata": {},
   "outputs": [],
   "source": [
    "cv_scores = joblib.load('cv_scores_SVM_TFIDF.joblib')\n",
    "TR_scores = joblib.load('TR_scores_SVM_TFIDF.joblib')"
   ]
  },
  {
   "cell_type": "code",
   "execution_count": 75,
   "metadata": {},
   "outputs": [
    {
     "data": {
      "text/plain": [
       "(0.500254712175242, (0.001, 'l2'))"
      ]
     },
     "execution_count": 75,
     "metadata": {},
     "output_type": "execute_result"
    }
   ],
   "source": [
    "max(zip(cv_scores.values(), cv_scores.keys()))"
   ]
  },
  {
   "cell_type": "markdown",
   "metadata": {},
   "source": [
    "#### Observations: 0.50025 is the highest AUC with alpha = 0.001 and penalty = 'l2'. The AUC for the various combination of the alpha and penalty is varying respectively."
   ]
  },
  {
   "cell_type": "markdown",
   "metadata": {},
   "source": [
    "### Plot of AUC w.r.t. alpha and penalty value on training and cross validation data."
   ]
  },
  {
   "cell_type": "code",
   "execution_count": 76,
   "metadata": {},
   "outputs": [
    {
     "data": {
      "image/png": "[encoded data removed]",
      "text/plain": [
       "<Figure size 432x288 with 1 Axes>"
      ]
     },
     "metadata": {
      "needs_background": "light"
     },
     "output_type": "display_data"
    }
   ],
   "source": [
    "# Plot of AUC w.r.t. alpha on training and cross validation data\n",
    "cv_scores = joblib.load('cv_scores_SVM_TFIDF.joblib')\n",
    "TR_scores = joblib.load('TR_scores_SVM_TFIDF.joblib')\n",
    "\n",
    "TR_alpha = [10e-4,10e-3,10e-2,10e-1,10e0,10e1,10e2,10e3,10e4]\n",
    "TR_values = [np.array([TR_scores[i] for i in TR_scores.keys() if i[0]==k]).max() for k in TR_alpha]\n",
    "plt.plot(TR_alpha, TR_values, label = 'Training AUC')\n",
    "\n",
    "\n",
    "CV_alpha = [10e-4,10e-3,10e-2,10e-1,10e0,10e1,10e2,10e3,10e4]\n",
    "CV_values = [np.array([cv_scores[i] for i in cv_scores.keys() if i[0]==k]).max() for k in CV_alpha]\n",
    "plt.plot(CV_alpha, CV_values, label = 'Cross Validation AUC')\n",
    "\n",
    "plt.xlabel('alpha')\n",
    "plt.ylabel('AUC');\n",
    "plt.legend()\n",
    "plt.show()"
   ]
  },
  {
   "cell_type": "code",
   "execution_count": 77,
   "metadata": {},
   "outputs": [
    {
     "data": {
      "image/png": "[encoded data removed]",
      "text/plain": [
       "<Figure size 432x288 with 1 Axes>"
      ]
     },
     "metadata": {
      "needs_background": "light"
     },
     "output_type": "display_data"
    }
   ],
   "source": [
    "# Plot of AUC w.r.t. penalty on training and cross validation data\n",
    "cv_scores = joblib.load('cv_scores_SVM_TFIDF.joblib')\n",
    "TR_scores = joblib.load('TR_scores_SVM_TFIDF.joblib')\n",
    "\n",
    "TR_regularizer = ['l2','l1']\n",
    "TR_values = [np.array([TR_scores[i] for i in TR_scores.keys() if i[1]==k]).max() for k in TR_regularizer]\n",
    "plt.plot(TR_regularizer, TR_values, label = 'Training AUC')\n",
    "\n",
    "\n",
    "CV_regularizer = ['l2','l1']\n",
    "CV_values = [np.array([cv_scores[i] for i in cv_scores.keys() if i[1]==k]).max() for k in CV_regularizer]\n",
    "plt.plot(CV_regularizer,CV_values, label = 'Cross Validation AUC')\n",
    "\n",
    "plt.xlabel('regularizer')\n",
    "plt.ylabel('AUC');\n",
    "plt.legend()\n",
    "plt.show()"
   ]
  },
  {
   "cell_type": "code",
   "execution_count": null,
   "metadata": {},
   "outputs": [],
   "source": [
    "# # Plot of AUC w.r.t. n_estimators and max_depth value on training and cross validation data\n",
    "# cv_scores = joblib.load('cv_scores_RF_TFIDF.joblib')\n",
    "# TR_scores = joblib.load('TR_scores_RF_TFIDF.joblib')\n",
    "\n",
    "# fig = plt.figure(figsize=(8,7))\n",
    "# a = list(TR_scores.keys())\n",
    "# TR_n_estimators = [i[0] for i in a]\n",
    "# TR_max_depth = [i[1] for i in a]\n",
    "# TR_values = list(TR_scores.values())\n",
    "# ax = plt.axes(projection='3d')\n",
    "# ax.scatter3D(TR_n_estimators, TR_max_depth, TR_values, c=TR_values, cmap='Blues', label = 'Training AUC');\n",
    "\n",
    "# a = list(cv_scores.keys())\n",
    "# CV_n_estimators = [i[0] for i in a]\n",
    "# CV_max_depth = [i[1] for i in a]\n",
    "# CV_values = list(cv_scores.values())\n",
    "# ax.scatter3D(CV_n_estimators, CV_max_depth, CV_values, c=CV_values, cmap='Reds', label = 'Cross Validation AUC');\n",
    "\n",
    "# ax.set_xlabel('n_estimators')\n",
    "# ax.set_ylabel('max_depth')\n",
    "# ax.set_zlabel('AUC');\n",
    "# ax.legend()\n",
    "# plt.show()"
   ]
  },
  {
   "cell_type": "code",
   "execution_count": 78,
   "metadata": {},
   "outputs": [],
   "source": [
    "# Testing on test data for best alpha and regularizer value obtained from simple cross validation\n",
    "model = linear_model.SGDClassifier(loss='hinge', alpha=0.001, penalty='l2', n_jobs = -1)\n",
    "model.fit(x_trTFIDF, y_tr)\n",
    "train_pred = model.predict(x_trTFIDF)"
   ]
  },
  {
   "cell_type": "markdown",
   "metadata": {},
   "source": [
    "### Receiver Operating Characteristic (ROC) Train data"
   ]
  },
  {
   "cell_type": "code",
   "execution_count": 79,
   "metadata": {},
   "outputs": [
    {
     "data": {
      "text/plain": [
       "<matplotlib.legend.Legend at 0x7f13a3fbdd68>"
      ]
     },
     "execution_count": 79,
     "metadata": {},
     "output_type": "execute_result"
    },
    {
     "data": {
      "image/png": "[encoded data removed]",
      "text/plain": [
       "<Figure size 432x288 with 1 Axes>"
      ]
     },
     "metadata": {
      "needs_background": "light"
     },
     "output_type": "display_data"
    }
   ],
   "source": [
    "fpr, tpr, thresholds = metrics.roc_curve(y_tr, train_pred)\n",
    "roc_auc = auc(fpr, tpr)\n",
    "# Plot ROC curve\n",
    "plt.plot(fpr, tpr, label='ROC curve (area = %0.3f)' % roc_auc)\n",
    "plt.plot([0, 1], [0, 1], 'k--')  # random predictions curve\n",
    "plt.xlim([0.0, 1.0])\n",
    "plt.ylim([0.0, 1.0])\n",
    "plt.xlabel('False Positive Rate or (1 - Specifity)')\n",
    "plt.ylabel('True Positive Rate or (Sensitivity)')\n",
    "plt.title('Receiver Operating Characteristic')\n",
    "plt.legend(loc=\"lower right\")"
   ]
  },
  {
   "cell_type": "markdown",
   "metadata": {},
   "source": [
    "### Receiver Operating Characteristic (ROC) Test data"
   ]
  },
  {
   "cell_type": "code",
   "execution_count": 80,
   "metadata": {},
   "outputs": [
    {
     "data": {
      "text/plain": [
       "0.5002037489812551"
      ]
     },
     "execution_count": 80,
     "metadata": {},
     "output_type": "execute_result"
    }
   ],
   "source": [
    "pred = model.predict(x_tsTFIDF)\n",
    "fpr, tpr, thresholds = metrics.roc_curve(y_test, pred)\n",
    "metrics.auc(fpr, tpr)"
   ]
  },
  {
   "cell_type": "code",
   "execution_count": 81,
   "metadata": {},
   "outputs": [
    {
     "data": {
      "text/plain": [
       "<matplotlib.legend.Legend at 0x7f134de47320>"
      ]
     },
     "execution_count": 81,
     "metadata": {},
     "output_type": "execute_result"
    },
    {
     "data": {
      "image/png": "[encoded data removed]",
      "text/plain": [
       "<Figure size 432x288 with 1 Axes>"
      ]
     },
     "metadata": {
      "needs_background": "light"
     },
     "output_type": "display_data"
    }
   ],
   "source": [
    "fpr, tpr, thresholds = metrics.roc_curve(y_test, pred)\n",
    "roc_auc = auc(fpr, tpr)\n",
    "# Plot ROC curve\n",
    "plt.plot(fpr, tpr, label='ROC curve (area = %0.3f)' % roc_auc)\n",
    "plt.plot([0, 1], [0, 1], 'k--')  # random predictions curve\n",
    "plt.xlim([0.0, 1.0])\n",
    "plt.ylim([0.0, 1.0])\n",
    "plt.xlabel('False Positive Rate or (1 - Specifity)')\n",
    "plt.ylabel('True Positive Rate or (Sensitivity)')\n",
    "plt.title('Receiver Operating Characteristic')\n",
    "plt.legend(loc=\"lower right\")"
   ]
  },
  {
   "cell_type": "markdown",
   "metadata": {},
   "source": [
    "#### Observation: From simple cross validation we found the best alpha and regularizer to be 0.001, 'l2' and AUC decreases as we increase alpha from 0.001. The test AUC for alpha = 0.001and regularizer = 'l2'  is 0.50020, stating the model did not overfit and is not giving exceedingly good results."
   ]
  },
  {
   "cell_type": "markdown",
   "metadata": {},
   "source": [
    "### Performance metrics of classification for train and test data"
   ]
  },
  {
   "cell_type": "code",
   "execution_count": 82,
   "metadata": {},
   "outputs": [
    {
     "data": {
      "image/png": "[encoded data removed]",
      "text/plain": [
       "<Figure size 432x288 with 1 Axes>"
      ]
     },
     "metadata": {
      "needs_background": "light"
     },
     "output_type": "display_data"
    }
   ],
   "source": [
    "# Testing on train data for best alpha and regularizer obtained from simple cross validation\n",
    "train_pred = model.predict(x_trTFIDF)\n",
    "# confusion matrix for train data\n",
    "mat = confusion_matrix(y_tr, train_pred)\n",
    "target_names = ['Positive', 'Negative']\n",
    "sns.heatmap(mat.T, square=True, annot=True, fmt='d', cbar=False,\n",
    "            xticklabels=target_names, yticklabels=target_names)\n",
    "plt.xlabel('True label')\n",
    "plt.ylabel('Predicted label');"
   ]
  },
  {
   "cell_type": "code",
   "execution_count": 83,
   "metadata": {},
   "outputs": [
    {
     "data": {
      "text/plain": [
       "array([[    1,  2453],\n",
       "       [    0, 17546]])"
      ]
     },
     "execution_count": 83,
     "metadata": {},
     "output_type": "execute_result"
    }
   ],
   "source": [
    "# confusion matrix for test data\n",
    "confusion_matrix(y_test, pred)"
   ]
  },
  {
   "cell_type": "code",
   "execution_count": 84,
   "metadata": {},
   "outputs": [
    {
     "data": {
      "image/png": "[encoded data removed]",
      "text/plain": [
       "<Figure size 432x288 with 1 Axes>"
      ]
     },
     "metadata": {
      "needs_background": "light"
     },
     "output_type": "display_data"
    }
   ],
   "source": [
    "mat = confusion_matrix(y_test, pred)\n",
    "target_names = ['Positive', 'Negative']\n",
    "sns.heatmap(mat.T, square=True, annot=True, fmt='d', cbar=False,\n",
    "            xticklabels=target_names, yticklabels=target_names)\n",
    "plt.xlabel('True label')\n",
    "plt.ylabel('Predicted label');"
   ]
  },
  {
   "cell_type": "markdown",
   "metadata": {},
   "source": [
    "#### Observations: Correctly classified points in the test data are 17547 ( = 1 + 17546) from confusion matrix and misclassified points are 2453 ( = 0 + 2453)"
   ]
  },
  {
   "cell_type": "markdown",
   "metadata": {},
   "source": [
    "### [5.1.4] Wordcloud of top 20 important features from SET 2"
   ]
  },
  {
   "cell_type": "code",
   "execution_count": 86,
   "metadata": {},
   "outputs": [],
   "source": [
    "top_features = 20\n",
    "feature_names = tf_idf_vect.get_feature_names()\n",
    "coef = model.coef_.ravel()\n",
    "top_positive_coefficients = np.argsort(coef)[-top_features:]\n",
    "top_negative_coefficients = np.argsort(coef)[:top_features]\n",
    "\n",
    "# positive class important words\n",
    "POS_importance_feature = {}\n",
    "for x in range(len(top_positive_coefficients)):\n",
    "    name = feature_names[top_positive_coefficients[x]]\n",
    "    importance = coef[top_positive_coefficients[x]]\n",
    "    POS_importance_feature.update({name:importance})\n",
    "    \n",
    "# negative class important words\n",
    "NEG_importance_feature = {}\n",
    "for x in range(len(top_negative_coefficients)):\n",
    "    name = feature_names[top_negative_coefficients[x]]\n",
    "    importance = (coef[top_negative_coefficients[x]])*-1\n",
    "    NEG_importance_feature.update({name:importance})"
   ]
  },
  {
   "cell_type": "markdown",
   "metadata": {},
   "source": [
    "#### Wordcloud for positive class"
   ]
  },
  {
   "cell_type": "code",
   "execution_count": 87,
   "metadata": {},
   "outputs": [
    {
     "data": {
      "image/png": "[encoded data removed]",
      "text/plain": [
       "<Figure size 1080x576 with 1 Axes>"
      ]
     },
     "metadata": {
      "needs_background": "light"
     },
     "output_type": "display_data"
    }
   ],
   "source": [
    "imp = list(POS_importance_feature)\n",
    "imp.sort(reverse=True)\n",
    "\n",
    "#from operator import itemgetter\n",
    "imp_feature = dict(sorted(POS_importance_feature.items(), key=itemgetter(1), reverse=True)[:20])\n",
    "#from wordcloud import WordCloud\n",
    "\n",
    "#convert list to string and generate\n",
    "unique_string=(\" \").join([i[0] for i in imp_feature])\n",
    "wordcloud = WordCloud(width = 700, height = 300).fit_words(imp_feature)\n",
    "plt.figure(figsize=(15,8))\n",
    "plt.imshow(wordcloud)\n",
    "plt.axis(\"off\")\n",
    "#plt.savefig(\"your_file_name\"+\".png\", bbox_inches='tight')\n",
    "plt.show()\n",
    "plt.close()"
   ]
  },
  {
   "cell_type": "markdown",
   "metadata": {},
   "source": [
    "#### Wordcloud for negative class"
   ]
  },
  {
   "cell_type": "code",
   "execution_count": 88,
   "metadata": {},
   "outputs": [
    {
     "data": {
      "image/png": "[encoded data removed]",
      "text/plain": [
       "<Figure size 1080x576 with 1 Axes>"
      ]
     },
     "metadata": {
      "needs_background": "light"
     },
     "output_type": "display_data"
    }
   ],
   "source": [
    "imp = list(NEG_importance_feature)\n",
    "imp.sort(reverse=True)\n",
    "\n",
    "#from operator import itemgetter\n",
    "imp_feature = dict(sorted(NEG_importance_feature.items(), key=itemgetter(1), reverse=True)[:20])\n",
    "\n",
    "#from wordcloud import WordCloud\n",
    "\n",
    "#convert list to string and generate\n",
    "unique_string=(\" \").join([i[0] for i in imp_feature])\n",
    "wordcloud = WordCloud(width = 700, height = 300).fit_words(imp_feature)\n",
    "plt.figure(figsize=(15,8))\n",
    "plt.imshow(wordcloud)\n",
    "plt.axis(\"off\")\n",
    "#plt.savefig(\"your_file_name\"+\".png\", bbox_inches='tight')\n",
    "plt.show()\n",
    "plt.close()"
   ]
  },
  {
   "cell_type": "markdown",
   "metadata": {},
   "source": [
    "### [5.1.3]  Applying Linear SVM on AVG W2V,<font color='red'> SET 3</font>"
   ]
  },
  {
   "cell_type": "code",
   "execution_count": 89,
   "metadata": {},
   "outputs": [],
   "source": [
    "# Reading the previously created BoW100k feature matirx.\n",
    "x_train_AVG_W2V = joblib.load('x_train_AVG_W2V.joblib')\n",
    "x_CV_AVG_W2V = joblib.load('x_CV_AVG_W2V.joblib')\n",
    "x_test_AVG_W2V = joblib.load('x_test_AVG_W2V.joblib')\n",
    "# x_train_AVG_W2V x_CV_AVG_W2V x_test_AVG_W2V\n",
    "\n",
    "# Reading the previously created dependent matrix\n",
    "y_tr = joblib.load('y_tr.joblib')\n",
    "y_CV = joblib.load('y_cv.joblib')\n",
    "y_test = joblib.load('y_test.joblib')\n",
    "# y_tr y_CV y_test\n",
    "\n",
    "# label encoding\n",
    "y_tr = np.array(pd.get_dummies(y_tr,drop_first=True))\n",
    "y_CV = np.array(pd.get_dummies(y_CV,drop_first=True))\n",
    "y_test = np.array(pd.get_dummies(y_test,drop_first=True))\n",
    "\n",
    "# Reshaping\n",
    "y_tr = y_tr.reshape(y_tr.shape[0])\n",
    "y_CV = y_CV.reshape(y_CV.shape[0])\n",
    "y_test = y_test.reshape(y_test.shape[0])"
   ]
  },
  {
   "cell_type": "code",
   "execution_count": 90,
   "metadata": {},
   "outputs": [
    {
     "name": "stderr",
     "output_type": "stream",
     "text": [
      "100%|██████████| 9/9 [00:02<00:00,  3.77it/s]\n"
     ]
    }
   ],
   "source": [
    "cv_scores = {}\n",
    "TR_scores = {}\n",
    "alpha = [10e-4,10e-3,10e-2,10e-1,10e0,10e1,10e2,10e3,10e4]\n",
    "regularizer = ['l2','l1']\n",
    "for i in tqdm(alpha):\n",
    "    for j in regularizer:\n",
    "        # instantiate learning model\n",
    "        model = linear_model.SGDClassifier(loss='hinge', alpha=i, penalty=j, n_jobs = -1)\n",
    "        model.fit(x_train_AVG_W2V, y_tr) # fitting the model on train data\n",
    "        train_pred = model.predict(x_train_AVG_W2V) # predict the response on the train data\n",
    "        pred = model.predict(x_CV_AVG_W2V) # predict the response on the cross-validation data\n",
    "        \n",
    "        # evaluate train AUC\n",
    "        fpr, tpr, thresholds = metrics.roc_curve(y_tr, train_pred)\n",
    "        train_AUC = metrics.auc(fpr, tpr)\n",
    "        # evaluate CV AUC\n",
    "        fpr, tpr, thresholds = metrics.roc_curve(y_CV, pred)\n",
    "        CV_AUC = metrics.auc(fpr, tpr)\n",
    "\n",
    "        #print('\\nCV AUC for max_depth =',i,'and min_samples_split = ',j,'is',CV_AUC)\n",
    "        cv_scores.update({(i,j):CV_AUC})\n",
    "        TR_scores.update({(i,j):train_AUC})"
   ]
  },
  {
   "cell_type": "code",
   "execution_count": 93,
   "metadata": {},
   "outputs": [
    {
     "data": {
      "text/plain": [
       "['TR_scores_SVM_AVG_W2V.joblib']"
      ]
     },
     "execution_count": 93,
     "metadata": {},
     "output_type": "execute_result"
    }
   ],
   "source": [
    "# Saving the scores obtained on train data and cross validation data. \n",
    "from sklearn.externals import joblib\n",
    "joblib.dump(cv_scores, 'cv_scores_SVM_AVG_W2V.joblib')\n",
    "joblib.dump(TR_scores, 'TR_scores_SVM_AVG_W2V.joblib')"
   ]
  },
  {
   "cell_type": "code",
   "execution_count": 94,
   "metadata": {},
   "outputs": [],
   "source": [
    "cv_scores = joblib.load('cv_scores_SVM_AVG_W2V.joblib')\n",
    "TR_scores = joblib.load('TR_scores_SVM_AVG_W2V.joblib')"
   ]
  },
  {
   "cell_type": "code",
   "execution_count": 95,
   "metadata": {},
   "outputs": [
    {
     "data": {
      "text/plain": [
       "(0.6253901930314363, (0.001, 'l2'))"
      ]
     },
     "execution_count": 95,
     "metadata": {},
     "output_type": "execute_result"
    }
   ],
   "source": [
    "max(zip(cv_scores.values(), cv_scores.keys()))  "
   ]
  },
  {
   "cell_type": "markdown",
   "metadata": {},
   "source": [
    "#### Observations: 0.62539 is the highest AUC with alpha = 0.001 and penalty = 'l2'. The AUC for the various combination of the alpha and penalty is varying respectively."
   ]
  },
  {
   "cell_type": "markdown",
   "metadata": {},
   "source": [
    "### Plot of AUC w.r.t. alpha and penalty value on training and cross validation data."
   ]
  },
  {
   "cell_type": "code",
   "execution_count": 96,
   "metadata": {},
   "outputs": [
    {
     "data": {
      "image/png": "[encoded data removed]",
      "text/plain": [
       "<Figure size 432x288 with 1 Axes>"
      ]
     },
     "metadata": {
      "needs_background": "light"
     },
     "output_type": "display_data"
    }
   ],
   "source": [
    "# Plot of AUC w.r.t. alpha on training and cross validation data\n",
    "cv_scores = joblib.load('cv_scores_SVM_AVG_W2V.joblib')\n",
    "TR_scores = joblib.load('TR_scores_SVM_AVG_W2V.joblib')\n",
    "\n",
    "TR_alpha = [10e-4,10e-3,10e-2,10e-1,10e0,10e1,10e2,10e3,10e4]\n",
    "TR_values = [np.array([TR_scores[i] for i in TR_scores.keys() if i[0]==k]).max() for k in TR_alpha]\n",
    "plt.plot(TR_alpha, TR_values, label = 'Training AUC')\n",
    "\n",
    "\n",
    "CV_alpha = [10e-4,10e-3,10e-2,10e-1,10e0,10e1,10e2,10e3,10e4]\n",
    "CV_values = [np.array([cv_scores[i] for i in cv_scores.keys() if i[0]==k]).max() for k in CV_alpha]\n",
    "plt.plot(CV_alpha, CV_values, label = 'Cross Validation AUC')\n",
    "\n",
    "plt.xlabel('alpha')\n",
    "plt.ylabel('AUC');\n",
    "plt.legend()\n",
    "plt.show()"
   ]
  },
  {
   "cell_type": "code",
   "execution_count": 97,
   "metadata": {},
   "outputs": [
    {
     "data": {
      "image/png": "[encoded data removed]",
      "text/plain": [
       "<Figure size 432x288 with 1 Axes>"
      ]
     },
     "metadata": {
      "needs_background": "light"
     },
     "output_type": "display_data"
    }
   ],
   "source": [
    "# Plot of AUC w.r.t. penalty on training and cross validation data\n",
    "cv_scores = joblib.load('cv_scores_SVM_AVG_W2V.joblib')\n",
    "TR_scores = joblib.load('TR_scores_SVM_AVG_W2V.joblib')\n",
    "\n",
    "TR_regularizer = ['l2','l1']\n",
    "TR_values = [np.array([TR_scores[i] for i in TR_scores.keys() if i[1]==k]).max() for k in TR_regularizer]\n",
    "plt.plot(TR_regularizer, TR_values, label = 'Training AUC')\n",
    "\n",
    "\n",
    "CV_regularizer = ['l2','l1']\n",
    "CV_values = [np.array([cv_scores[i] for i in cv_scores.keys() if i[1]==k]).max() for k in CV_regularizer]\n",
    "plt.plot(CV_regularizer,CV_values, label = 'Cross Validation AUC')\n",
    "\n",
    "plt.xlabel('regularizer')\n",
    "plt.ylabel('AUC');\n",
    "plt.legend()\n",
    "plt.show()"
   ]
  },
  {
   "cell_type": "code",
   "execution_count": null,
   "metadata": {
    "scrolled": false
   },
   "outputs": [],
   "source": [
    "# # Plot of AUC w.r.t. n_estimators and max_depth value on training and cross validation data\n",
    "# cv_scores = joblib.load('cv_scores_RF_AVG_W2V.joblib')\n",
    "# TR_scores = joblib.load('TR_scores_RF_AVG_W2V.joblib')\n",
    "\n",
    "# fig = plt.figure(figsize=(8,7))\n",
    "# a = list(TR_scores.keys())\n",
    "# TR_n_estimators = [i[0] for i in a]\n",
    "# TR_max_depth = [i[1] for i in a]\n",
    "# TR_values = list(TR_scores.values())\n",
    "# ax = plt.axes(projection='3d')\n",
    "# ax.scatter3D(TR_n_estimators, TR_max_depth, TR_values, c=TR_values, cmap='Blues', label = 'Training AUC');\n",
    "\n",
    "# a = list(cv_scores.keys())\n",
    "# CV_n_estimators = [i[0] for i in a]\n",
    "# CV_max_depth = [i[1] for i in a]\n",
    "# CV_values = list(cv_scores.values())\n",
    "# ax.scatter3D(CV_n_estimators, CV_max_depth, CV_values, c=CV_values, cmap='Reds', label = 'Cross Validation AUC');\n",
    "\n",
    "# ax.set_xlabel('n_estimators')\n",
    "# ax.set_ylabel('max_depth')\n",
    "# ax.set_zlabel('AUC');\n",
    "# ax.legend()\n",
    "# plt.show()"
   ]
  },
  {
   "cell_type": "code",
   "execution_count": 98,
   "metadata": {},
   "outputs": [],
   "source": [
    "# Testing on test data for best alpha and regularizer value obtained from simple cross validation\n",
    "model = linear_model.SGDClassifier(loss='hinge', alpha=0.001, penalty='l2', n_jobs = -1)\n",
    "model.fit(x_train_AVG_W2V, y_tr)\n",
    "train_pred = model.predict(x_train_AVG_W2V)"
   ]
  },
  {
   "cell_type": "markdown",
   "metadata": {},
   "source": [
    "### Receiver Operating Characteristic (ROC) Train data"
   ]
  },
  {
   "cell_type": "code",
   "execution_count": 99,
   "metadata": {},
   "outputs": [
    {
     "data": {
      "text/plain": [
       "<matplotlib.legend.Legend at 0x7f133a9a9a90>"
      ]
     },
     "execution_count": 99,
     "metadata": {},
     "output_type": "execute_result"
    },
    {
     "data": {
      "image/png": "[encoded data removed]",
      "text/plain": [
       "<Figure size 432x288 with 1 Axes>"
      ]
     },
     "metadata": {
      "needs_background": "light"
     },
     "output_type": "display_data"
    }
   ],
   "source": [
    "fpr, tpr, thresholds = metrics.roc_curve(y_tr, train_pred)\n",
    "roc_auc = auc(fpr, tpr)\n",
    "# Plot ROC curve\n",
    "plt.plot(fpr, tpr, label='ROC curve (area = %0.3f)' % roc_auc)\n",
    "plt.plot([0, 1], [0, 1], 'k--')  # random predictions curve\n",
    "plt.xlim([0.0, 1.0])\n",
    "plt.ylim([0.0, 1.0])\n",
    "plt.xlabel('False Positive Rate or (1 - Specifity)')\n",
    "plt.ylabel('True Positive Rate or (Sensitivity)')\n",
    "plt.title('Receiver Operating Characteristic')\n",
    "plt.legend(loc=\"lower right\")"
   ]
  },
  {
   "cell_type": "markdown",
   "metadata": {},
   "source": [
    "### Receiver Operating Characteristic (ROC) Test data"
   ]
  },
  {
   "cell_type": "code",
   "execution_count": 100,
   "metadata": {},
   "outputs": [
    {
     "data": {
      "text/plain": [
       "0.6078444542235285"
      ]
     },
     "execution_count": 100,
     "metadata": {},
     "output_type": "execute_result"
    }
   ],
   "source": [
    "pred = model.predict(x_test_AVG_W2V)\n",
    "fpr, tpr, thresholds = metrics.roc_curve(y_test, pred)\n",
    "metrics.auc(fpr, tpr)"
   ]
  },
  {
   "cell_type": "code",
   "execution_count": 101,
   "metadata": {},
   "outputs": [
    {
     "data": {
      "text/plain": [
       "<matplotlib.legend.Legend at 0x7f1332659f60>"
      ]
     },
     "execution_count": 101,
     "metadata": {},
     "output_type": "execute_result"
    },
    {
     "data": {
      "image/png": "[encoded data removed]",
      "text/plain": [
       "<Figure size 432x288 with 1 Axes>"
      ]
     },
     "metadata": {
      "needs_background": "light"
     },
     "output_type": "display_data"
    }
   ],
   "source": [
    "fpr, tpr, thresholds = metrics.roc_curve(y_test, pred)\n",
    "roc_auc = auc(fpr, tpr)\n",
    "# Plot ROC curve\n",
    "plt.plot(fpr, tpr, label='ROC curve (area = %0.3f)' % roc_auc)\n",
    "plt.plot([0, 1], [0, 1], 'k--')  # random predictions curve\n",
    "plt.xlim([0.0, 1.0])\n",
    "plt.ylim([0.0, 1.0])\n",
    "plt.xlabel('False Positive Rate or (1 - Specifity)')\n",
    "plt.ylabel('True Positive Rate or (Sensitivity)')\n",
    "plt.title('Receiver Operating Characteristic')\n",
    "plt.legend(loc=\"lower right\")"
   ]
  },
  {
   "cell_type": "markdown",
   "metadata": {},
   "source": [
    "#### Observation: From simple cross validation we found the best alpha and regularizer to be 0.001, 'l2' and AUC decreases as we increase alpha from 0.001. The test AUC for alpha = 0.001 and regularizer = 'l2'  is 0.60784, stating the model did not overfit."
   ]
  },
  {
   "cell_type": "markdown",
   "metadata": {},
   "source": [
    "### Performance metrics of classification for train and test data"
   ]
  },
  {
   "cell_type": "code",
   "execution_count": 102,
   "metadata": {},
   "outputs": [
    {
     "data": {
      "image/png": "[encoded data removed]",
      "text/plain": [
       "<Figure size 432x288 with 1 Axes>"
      ]
     },
     "metadata": {
      "needs_background": "light"
     },
     "output_type": "display_data"
    }
   ],
   "source": [
    "# Testing on train data for best best alpha and regularizer obtained from simple cross validation\n",
    "train_pred = model.predict(x_train_AVG_W2V)\n",
    "# confusion matrix for train data\n",
    "mat = confusion_matrix(y_tr, train_pred)\n",
    "target_names = ['Positive', 'Negative']\n",
    "sns.heatmap(mat.T, square=True, annot=True, fmt='d', cbar=False,\n",
    "            xticklabels=target_names, yticklabels=target_names)\n",
    "plt.xlabel('True label')\n",
    "plt.ylabel('Predicted label');"
   ]
  },
  {
   "cell_type": "code",
   "execution_count": 103,
   "metadata": {},
   "outputs": [
    {
     "data": {
      "text/plain": [
       "array([[  550,  1904],\n",
       "       [  148, 17398]])"
      ]
     },
     "execution_count": 103,
     "metadata": {},
     "output_type": "execute_result"
    }
   ],
   "source": [
    "# confusion matrix for test data\n",
    "confusion_matrix(y_test, pred)"
   ]
  },
  {
   "cell_type": "code",
   "execution_count": 104,
   "metadata": {},
   "outputs": [
    {
     "data": {
      "image/png": "[encoded data removed]",
      "text/plain": [
       "<Figure size 432x288 with 1 Axes>"
      ]
     },
     "metadata": {
      "needs_background": "light"
     },
     "output_type": "display_data"
    }
   ],
   "source": [
    "mat = confusion_matrix(y_test, pred)\n",
    "target_names = ['Positive', 'Negative']\n",
    "sns.heatmap(mat.T, square=True, annot=True, fmt='d', cbar=False,\n",
    "            xticklabels=target_names, yticklabels=target_names)\n",
    "plt.xlabel('True label')\n",
    "plt.ylabel('Predicted label');"
   ]
  },
  {
   "cell_type": "markdown",
   "metadata": {},
   "source": [
    "#### Observations: Correctly classified points in the test data are 17948 ( = 550+17398) from confusion matrix and misclassified points are 2052 ( = 1904+148)"
   ]
  },
  {
   "cell_type": "markdown",
   "metadata": {},
   "source": [
    "### [5.1.4]  Applying Linear SVM on TFIDF W2V,<font color='red'> SET 4</font>"
   ]
  },
  {
   "cell_type": "code",
   "execution_count": 105,
   "metadata": {},
   "outputs": [],
   "source": [
    "# Reading the previously created BoW100k feature matirx.\n",
    "x_train_AVG_TFIDF_W_W2V = joblib.load('x_train_AVG_TFIDF_weighted_W2V.joblib')\n",
    "x_CV_AVG_TFIDF_W_W2V = joblib.load('x_CV_AVG_TFIDF_weighted_W2V.joblib')\n",
    "x_test_AVG_TFIDF_W_W2V = joblib.load('x_test_AVG_TFIDF_weighted_W2V.joblib')\n",
    "# x_train_AVG_TFIDF_W_W2V    x_CV_AVG_TFIDF_W_W2V    x_test_AVG_TFIDF_W_W2V\n",
    "\n",
    "# Reading the previously created dependent matrix\n",
    "y_tr = joblib.load('y_tr.joblib')\n",
    "y_CV = joblib.load('y_cv.joblib')\n",
    "y_test = joblib.load('y_test.joblib')\n",
    "# y_tr y_CV y_test\n",
    "\n",
    "# label encoding\n",
    "y_tr = np.array(pd.get_dummies(y_tr,drop_first=True))\n",
    "y_CV = np.array(pd.get_dummies(y_CV,drop_first=True))\n",
    "y_test = np.array(pd.get_dummies(y_test,drop_first=True))\n",
    "\n",
    "# Reshaping\n",
    "y_tr = y_tr.reshape(y_tr.shape[0])\n",
    "y_CV = y_CV.reshape(y_CV.shape[0])\n",
    "y_test = y_test.reshape(y_test.shape[0])"
   ]
  },
  {
   "cell_type": "code",
   "execution_count": 106,
   "metadata": {},
   "outputs": [
    {
     "name": "stderr",
     "output_type": "stream",
     "text": [
      "100%|██████████| 9/9 [00:02<00:00,  3.71it/s]\n"
     ]
    }
   ],
   "source": [
    "cv_scores = {}\n",
    "TR_scores = {}\n",
    "alpha = [10e-4,10e-3,10e-2,10e-1,10e0,10e1,10e2,10e3,10e4]\n",
    "regularizer = ['l2','l1']\n",
    "for i in tqdm(alpha):\n",
    "    for j in regularizer:\n",
    "        # instantiate learning model\n",
    "        model = linear_model.SGDClassifier(loss='hinge', alpha=i, penalty=j, n_jobs = -1)\n",
    "        model.fit(x_train_AVG_TFIDF_W_W2V, y_tr) # fitting the model on train data\n",
    "        train_pred = model.predict(x_train_AVG_TFIDF_W_W2V) # predict the response on the train data\n",
    "        pred = model.predict(x_CV_AVG_TFIDF_W_W2V) # predict the response on the cross-validation data\n",
    "        \n",
    "        # evaluate train AUC\n",
    "        fpr, tpr, thresholds = metrics.roc_curve(y_tr, train_pred)\n",
    "        train_AUC = metrics.auc(fpr, tpr)\n",
    "        # evaluate CV AUC\n",
    "        fpr, tpr, thresholds = metrics.roc_curve(y_CV, pred)\n",
    "        CV_AUC = metrics.auc(fpr, tpr)\n",
    "\n",
    "        #print('\\nCV AUC for max_depth =',i,'and min_samples_split = ',j,'is',CV_AUC)\n",
    "        cv_scores.update({(i,j):CV_AUC})\n",
    "        TR_scores.update({(i,j):train_AUC})"
   ]
  },
  {
   "cell_type": "code",
   "execution_count": 112,
   "metadata": {},
   "outputs": [
    {
     "data": {
      "text/plain": [
       "['TR_scores_SVM_AVG_TFIDF_W_W2V.joblib']"
      ]
     },
     "execution_count": 112,
     "metadata": {},
     "output_type": "execute_result"
    }
   ],
   "source": [
    "# Saving the scores obtained on train data and cross validation data. \n",
    "from sklearn.externals import joblib\n",
    "joblib.dump(cv_scores, 'cv_scores_SVM_AVG_TFIDF_W_W2V.joblib')\n",
    "joblib.dump(TR_scores, 'TR_scores_SVM_AVG_TFIDF_W_W2V.joblib')"
   ]
  },
  {
   "cell_type": "code",
   "execution_count": 113,
   "metadata": {},
   "outputs": [],
   "source": [
    "cv_scores = joblib.load('cv_scores_SVM_AVG_TFIDF_W_W2V.joblib')\n",
    "TR_scores = joblib.load('TR_scores_SVM_AVG_TFIDF_W_W2V.joblib')"
   ]
  },
  {
   "cell_type": "code",
   "execution_count": 114,
   "metadata": {},
   "outputs": [
    {
     "data": {
      "text/plain": [
       "(0.5144224758444416, (0.001, 'l2'))"
      ]
     },
     "execution_count": 114,
     "metadata": {},
     "output_type": "execute_result"
    }
   ],
   "source": [
    "max(zip(cv_scores.values(), cv_scores.keys()))  "
   ]
  },
  {
   "cell_type": "markdown",
   "metadata": {},
   "source": [
    "#### Observations: 0.51442 is the highest AUC with alpha = 0.001 and penalty = 'l2'. The AUC for the various combination of the alpha and penalty is varying respectively."
   ]
  },
  {
   "cell_type": "markdown",
   "metadata": {},
   "source": [
    "### Plot of AUC w.r.t. alpha and penalty value on training and cross validation data."
   ]
  },
  {
   "cell_type": "code",
   "execution_count": 115,
   "metadata": {},
   "outputs": [
    {
     "data": {
      "image/png": "[encoded data removed]",
      "text/plain": [
       "<Figure size 432x288 with 1 Axes>"
      ]
     },
     "metadata": {
      "needs_background": "light"
     },
     "output_type": "display_data"
    }
   ],
   "source": [
    "# Plot of AUC w.r.t. alpha on training and cross validation data\n",
    "cv_scores = joblib.load('cv_scores_SVM_AVG_TFIDF_W_W2V.joblib')\n",
    "TR_scores = joblib.load('TR_scores_SVM_AVG_TFIDF_W_W2V.joblib')\n",
    "\n",
    "TR_alpha = [10e-4,10e-3,10e-2,10e-1,10e0,10e1,10e2,10e3,10e4]\n",
    "TR_values = [np.array([TR_scores[i] for i in TR_scores.keys() if i[0]==k]).max() for k in TR_alpha]\n",
    "plt.plot(TR_alpha, TR_values, label = 'Training AUC')\n",
    "\n",
    "\n",
    "CV_alpha = [10e-4,10e-3,10e-2,10e-1,10e0,10e1,10e2,10e3,10e4]\n",
    "CV_values = [np.array([cv_scores[i] for i in cv_scores.keys() if i[0]==k]).max() for k in CV_alpha]\n",
    "plt.plot(CV_alpha, CV_values, label = 'Cross Validation AUC')\n",
    "\n",
    "plt.xlabel('alpha')\n",
    "plt.ylabel('AUC');\n",
    "plt.legend()\n",
    "plt.show()"
   ]
  },
  {
   "cell_type": "code",
   "execution_count": 116,
   "metadata": {},
   "outputs": [
    {
     "data": {
      "image/png": "[encoded data removed]",
      "text/plain": [
       "<Figure size 432x288 with 1 Axes>"
      ]
     },
     "metadata": {
      "needs_background": "light"
     },
     "output_type": "display_data"
    }
   ],
   "source": [
    "# Plot of AUC w.r.t. penalty on training and cross validation data\n",
    "cv_scores = joblib.load('cv_scores_SVM_AVG_TFIDF_W_W2V.joblib')\n",
    "TR_scores = joblib.load('TR_scores_SVM_AVG_TFIDF_W_W2V.joblib')\n",
    "\n",
    "TR_regularizer = ['l2','l1']\n",
    "TR_values = [np.array([TR_scores[i] for i in TR_scores.keys() if i[1]==k]).max() for k in TR_regularizer]\n",
    "plt.plot(TR_regularizer, TR_values, label = 'Training AUC')\n",
    "\n",
    "\n",
    "CV_regularizer = ['l2','l1']\n",
    "CV_values = [np.array([cv_scores[i] for i in cv_scores.keys() if i[1]==k]).max() for k in CV_regularizer]\n",
    "plt.plot(CV_regularizer,CV_values, label = 'Cross Validation AUC')\n",
    "\n",
    "plt.xlabel('regularizer')\n",
    "plt.ylabel('AUC');\n",
    "plt.legend()\n",
    "plt.show()"
   ]
  },
  {
   "cell_type": "code",
   "execution_count": null,
   "metadata": {},
   "outputs": [],
   "source": [
    "# # Plot of AUC w.r.t. n_estimators and max_depth value on training and cross validation data\n",
    "# cv_scores = joblib.load('cv_scores_RF_AVG_TFIDF_W_W2V.joblib')\n",
    "# TR_scores = joblib.load('TR_scores_RF_AVG_TFIDF_W_W2V.joblib')\n",
    "\n",
    "# fig = plt.figure(figsize=(8,7))\n",
    "# a = list(TR_scores.keys())\n",
    "# TR_n_estimators = [i[0] for i in a]\n",
    "# TR_max_depth = [i[1] for i in a]\n",
    "# TR_values = list(TR_scores.values())\n",
    "# ax = plt.axes(projection='3d')\n",
    "# ax.scatter3D(TR_n_estimators, TR_max_depth, TR_values, c=TR_values, cmap='Blues', label = 'Training AUC');\n",
    "\n",
    "# a = list(cv_scores.keys())\n",
    "# CV_n_estimators = [i[0] for i in a]\n",
    "# CV_max_depth = [i[1] for i in a]\n",
    "# CV_values = list(cv_scores.values())\n",
    "# ax.scatter3D(CV_n_estimators, CV_max_depth, CV_values, c=CV_values, cmap='Reds', label = 'Cross Validation AUC');\n",
    "\n",
    "# ax.set_xlabel('n_estimators')\n",
    "# ax.set_ylabel('max_depth')\n",
    "# ax.set_zlabel('AUC');\n",
    "# ax.legend()\n",
    "# plt.show()"
   ]
  },
  {
   "cell_type": "code",
   "execution_count": 117,
   "metadata": {},
   "outputs": [],
   "source": [
    "# Testing on test data for best alpha and regularizer value obtained from simple cross validation\n",
    "model = linear_model.SGDClassifier(loss='hinge', alpha=0.001, penalty='l2', n_jobs = -1)\n",
    "model.fit(x_train_AVG_TFIDF_W_W2V, y_tr)\n",
    "train_pred = model.predict(x_train_AVG_TFIDF_W_W2V)"
   ]
  },
  {
   "cell_type": "markdown",
   "metadata": {},
   "source": [
    "### Receiver Operating Characteristic (ROC) Train data"
   ]
  },
  {
   "cell_type": "code",
   "execution_count": 118,
   "metadata": {},
   "outputs": [
    {
     "data": {
      "text/plain": [
       "<matplotlib.legend.Legend at 0x7f133a7f1208>"
      ]
     },
     "execution_count": 118,
     "metadata": {},
     "output_type": "execute_result"
    },
    {
     "data": {
      "image/png": "[encoded data removed]",
      "text/plain": [
       "<Figure size 432x288 with 1 Axes>"
      ]
     },
     "metadata": {
      "needs_background": "light"
     },
     "output_type": "display_data"
    }
   ],
   "source": [
    "fpr, tpr, thresholds = metrics.roc_curve(y_tr, train_pred)\n",
    "roc_auc = auc(fpr, tpr)\n",
    "# Plot ROC curve\n",
    "plt.plot(fpr, tpr, label='ROC curve (area = %0.3f)' % roc_auc)\n",
    "plt.plot([0, 1], [0, 1], 'k--')  # random predictions curve\n",
    "plt.xlim([0.0, 1.0])\n",
    "plt.ylim([0.0, 1.0])\n",
    "plt.xlabel('False Positive Rate or (1 - Specifity)')\n",
    "plt.ylabel('True Positive Rate or (Sensitivity)')\n",
    "plt.title('Receiver Operating Characteristic')\n",
    "plt.legend(loc=\"lower right\")"
   ]
  },
  {
   "cell_type": "markdown",
   "metadata": {},
   "source": [
    "### Receiver Operating Characteristic (ROC) Test data¶"
   ]
  },
  {
   "cell_type": "code",
   "execution_count": 119,
   "metadata": {},
   "outputs": [
    {
     "data": {
      "text/plain": [
       "0.5053060201472046"
      ]
     },
     "execution_count": 119,
     "metadata": {},
     "output_type": "execute_result"
    }
   ],
   "source": [
    "pred = model.predict(x_test_AVG_TFIDF_W_W2V)\n",
    "fpr, tpr, thresholds = metrics.roc_curve(y_test, pred)\n",
    "metrics.auc(fpr, tpr)"
   ]
  },
  {
   "cell_type": "code",
   "execution_count": 120,
   "metadata": {},
   "outputs": [
    {
     "data": {
      "text/plain": [
       "<matplotlib.legend.Legend at 0x7f1340a66c50>"
      ]
     },
     "execution_count": 120,
     "metadata": {},
     "output_type": "execute_result"
    },
    {
     "data": {
      "image/png": "[encoded data removed]",
      "text/plain": [
       "<Figure size 432x288 with 1 Axes>"
      ]
     },
     "metadata": {
      "needs_background": "light"
     },
     "output_type": "display_data"
    }
   ],
   "source": [
    "fpr, tpr, thresholds = metrics.roc_curve(y_test, pred)\n",
    "roc_auc = auc(fpr, tpr)\n",
    "# Plot ROC curve\n",
    "plt.plot(fpr, tpr, label='ROC curve (area = %0.3f)' % roc_auc)\n",
    "plt.plot([0, 1], [0, 1], 'k--')  # random predictions curve\n",
    "plt.xlim([0.0, 1.0])\n",
    "plt.ylim([0.0, 1.0])\n",
    "plt.xlabel('False Positive Rate or (1 - Specifity)')\n",
    "plt.ylabel('True Positive Rate or (Sensitivity)')\n",
    "plt.title('Receiver Operating Characteristic')\n",
    "plt.legend(loc=\"lower right\")"
   ]
  },
  {
   "cell_type": "markdown",
   "metadata": {},
   "source": [
    "#### Observation: From simple cross validation we found the best alpha and regularizer to be 0.001, 'l2' and AUC decreases as we increase alpha from 0.001. The test AUC for alpha = 0.001and regularizer = 'l2'  is 0.50530, stating the model did not overfit."
   ]
  },
  {
   "cell_type": "markdown",
   "metadata": {},
   "source": [
    "### Performance metrics of classification for train and test data"
   ]
  },
  {
   "cell_type": "code",
   "execution_count": 121,
   "metadata": {},
   "outputs": [
    {
     "data": {
      "image/png": "[encoded data removed]",
      "text/plain": [
       "<Figure size 432x288 with 1 Axes>"
      ]
     },
     "metadata": {
      "needs_background": "light"
     },
     "output_type": "display_data"
    }
   ],
   "source": [
    "# Testing on train data for best best alpha and regularizer obtained from simple cross validation\n",
    "train_pred = model.predict(x_train_AVG_TFIDF_W_W2V)\n",
    "# confusion matrix for train data\n",
    "mat = confusion_matrix(y_tr, train_pred)\n",
    "target_names = ['Positive', 'Negative']\n",
    "sns.heatmap(mat.T, square=True, annot=True, fmt='d', cbar=False,\n",
    "            xticklabels=target_names, yticklabels=target_names)\n",
    "plt.xlabel('True label')\n",
    "plt.ylabel('Predicted label');"
   ]
  },
  {
   "cell_type": "code",
   "execution_count": 122,
   "metadata": {},
   "outputs": [
    {
     "data": {
      "text/plain": [
       "array([[   28,  2426],\n",
       "       [   14, 17532]])"
      ]
     },
     "execution_count": 122,
     "metadata": {},
     "output_type": "execute_result"
    }
   ],
   "source": [
    "# confusion matrix for test data\n",
    "confusion_matrix(y_test, pred)"
   ]
  },
  {
   "cell_type": "code",
   "execution_count": 123,
   "metadata": {},
   "outputs": [
    {
     "data": {
      "image/png": "[encoded data removed]",
      "text/plain": [
       "<Figure size 432x288 with 1 Axes>"
      ]
     },
     "metadata": {
      "needs_background": "light"
     },
     "output_type": "display_data"
    }
   ],
   "source": [
    "mat = confusion_matrix(y_test, pred)\n",
    "target_names = ['Positive', 'Negative']\n",
    "sns.heatmap(mat.T, square=True, annot=True, fmt='d', cbar=False,\n",
    "            xticklabels=target_names, yticklabels=target_names)\n",
    "plt.xlabel('True label')\n",
    "plt.ylabel('Predicted label');"
   ]
  },
  {
   "cell_type": "markdown",
   "metadata": {},
   "source": [
    "#### Observations: Correctly classified points in the test data are 17560 ( = 28+17532) from confusion matrix and misclassified points are 2440 ( = 2426+14)"
   ]
  },
  {
   "cell_type": "markdown",
   "metadata": {},
   "source": [
    "## [5.2] RBF SVM"
   ]
  },
  {
   "cell_type": "markdown",
   "metadata": {},
   "source": [
    "### [5.2.1] Applying RBF SVM on BOW,<font color='red'> SET 1</font>"
   ]
  },
  {
   "cell_type": "code",
   "execution_count": 174,
   "metadata": {},
   "outputs": [],
   "source": [
    "# Reading the previously created BoW40k feature matirx.\n",
    "x_trBOW = joblib.load('x_train_BOW.joblib')\n",
    "x_CVBOW = joblib.load('x_CV_BOW.joblib')\n",
    "x_tsBOW = joblib.load('x_test_BOW.joblib')\n",
    "# x_trBOW x_CVBOW x_tsBOW\n",
    "\n",
    "# Reading the previously created dependent matrix\n",
    "y_tr = joblib.load('y_tr.joblib')\n",
    "y_CV = joblib.load('y_cv.joblib')\n",
    "y_test = joblib.load('y_test.joblib')\n",
    "# y_tr y_CV y_test\n",
    "\n",
    "# Label encoding\n",
    "y_tr = np.array(pd.get_dummies(y_tr,drop_first=True))\n",
    "y_CV = np.array(pd.get_dummies(y_CV,drop_first=True))\n",
    "y_test = np.array(pd.get_dummies(y_test,drop_first=True))\n",
    "\n",
    "# Reshaping\n",
    "y_tr = y_tr.reshape(y_tr.shape[0])\n",
    "y_CV = y_CV.reshape(y_CV.shape[0])\n",
    "y_test = y_test.reshape(y_test.shape[0])"
   ]
  },
  {
   "cell_type": "code",
   "execution_count": null,
   "metadata": {},
   "outputs": [],
   "source": [
    "cv_scores = {}\n",
    "TR_scores = {}\n",
    "for i in [10, 50, 100, 200, 500]:\n",
    "    for j in [1, 5, 10, 100, 500]:\n",
    "        # instantiate learning model\n",
    "        model = XGBClassifier(n_estimators= i, max_depth=j, random_state=101, n_jobs = -1)\n",
    "        model.fit(x_trBOW, y_tr) # fitting the model on train data\n",
    "        train_pred = model.predict(x_trBOW) # predict the response on the train data\n",
    "        pred = model.predict(x_CVBOW) # predict the response on the cross-validation data\n",
    "        \n",
    "        # evaluate train AUC\n",
    "        fpr, tpr, thresholds = metrics.roc_curve(y_tr, train_pred)\n",
    "        train_AUC = metrics.auc(fpr, tpr)\n",
    "        # evaluate CV AUC\n",
    "        fpr, tpr, thresholds = metrics.roc_curve(y_CV, pred)\n",
    "        CV_AUC = metrics.auc(fpr, tpr)\n",
    "\n",
    "        #print('\\nCV AUC for max_depth =',i,'and min_samples_split = ',j,'is',CV_AUC)\n",
    "        cv_scores.update({(i,j):CV_AUC})\n",
    "        TR_scores.update({(i,j):train_AUC})"
   ]
  },
  {
   "cell_type": "code",
   "execution_count": null,
   "metadata": {},
   "outputs": [],
   "source": [
    "# Saving the scores obtained on train data and cross validation data. \n",
    "joblib.dump(cv_scores, 'cv_scores_XGB_BOW.joblib')\n",
    "joblib.dump(TR_scores, 'TR_scores_XGB_BOW.joblib')"
   ]
  },
  {
   "cell_type": "code",
   "execution_count": null,
   "metadata": {},
   "outputs": [],
   "source": [
    "cv_scores = joblib.load('cv_scores_XGB_BOW.joblib')\n",
    "TR_scores = joblib.load('TR_scores_XGB_BOW.joblib')"
   ]
  },
  {
   "cell_type": "code",
   "execution_count": null,
   "metadata": {},
   "outputs": [],
   "source": [
    "max(zip(cv_scores.values(), cv_scores.keys()))"
   ]
  },
  {
   "cell_type": "markdown",
   "metadata": {},
   "source": [
    "#### Observations: 0.74658 is the highest AUC with n_estimators = 500 and max_depth = 500. The AUC for the various combination(24) of the n_estimators and max_depth is varying respectively."
   ]
  },
  {
   "cell_type": "markdown",
   "metadata": {},
   "source": [
    "### Plot of AUC w.r.t. n_estimators and max_depth value on training and cross validation data."
   ]
  },
  {
   "cell_type": "code",
   "execution_count": null,
   "metadata": {},
   "outputs": [],
   "source": [
    "# Plot of AUC w.r.t. n_estimators on training and cross validation data\n",
    "cv_scores = joblib.load('cv_scores_XGB_BOW.joblib')\n",
    "TR_scores = joblib.load('TR_scores_XGB_BOW.joblib')\n",
    "\n",
    "TR_n_estimators = [10, 50, 100, 200, 500]\n",
    "TR_values = [np.array([TR_scores[i] for i in TR_scores.keys() if i[0]==k]).max() for k in TR_n_estimators]\n",
    "plt.plot(TR_n_estimators, TR_values, label = 'Training AUC')\n",
    "\n",
    "\n",
    "CV_n_estimators = [10, 50, 100, 200, 500]\n",
    "CV_values = [np.array([cv_scores[i] for i in cv_scores.keys() if i[0]==k]).max() for k in CV_n_estimators]\n",
    "plt.plot(CV_n_estimators, CV_values, label = 'Cross Validation AUC')\n",
    "\n",
    "plt.xlabel('n_estimators')\n",
    "plt.ylabel('AUC');\n",
    "plt.legend()\n",
    "plt.show()"
   ]
  },
  {
   "cell_type": "code",
   "execution_count": null,
   "metadata": {},
   "outputs": [],
   "source": [
    "# Plot of AUC w.r.t. max_depth on training and cross validation data\n",
    "cv_scores = joblib.load('cv_scores_XGB_BOW.joblib')\n",
    "TR_scores = joblib.load('TR_scores_XGB_BOW.joblib')\n",
    "\n",
    "TR_max_depth = [1, 5, 10, 100, 500]\n",
    "TR_values = [np.array([TR_scores[i] for i in TR_scores.keys() if i[1]==k]).max() for k in TR_max_depth]\n",
    "plt.plot(TR_max_depth, TR_values, label = 'Training AUC')\n",
    "\n",
    "\n",
    "CV_max_depth = [1, 5, 10, 100, 500]\n",
    "CV_values = [np.array([cv_scores[i] for i in cv_scores.keys() if i[1]==k]).max() for k in CV_max_depth]\n",
    "plt.plot(CV_max_depth,CV_values, label = 'Cross Validation AUC')\n",
    "\n",
    "plt.xlabel('max_depth')\n",
    "plt.ylabel('AUC');\n",
    "plt.legend()\n",
    "plt.show()"
   ]
  },
  {
   "cell_type": "code",
   "execution_count": null,
   "metadata": {},
   "outputs": [],
   "source": [
    "# Plot of AUC w.r.t. n_estimators and max_depth value on training and cross validation data\n",
    "cv_scores = joblib.load('cv_scores_XGB_BOW.joblib')\n",
    "TR_scores = joblib.load('TR_scores_XGB_BOW.joblib')\n",
    "\n",
    "fig = plt.figure(figsize=(8,7))\n",
    "a = list(TR_scores.keys())\n",
    "TR_n_estimators = [i[0] for i in a]\n",
    "TR_max_depth = [i[1] for i in a]\n",
    "TR_values = list(TR_scores.values())\n",
    "ax = plt.axes(projection='3d')\n",
    "ax.scatter3D(TR_n_estimators, TR_max_depth, TR_values, c=TR_values, cmap='Blues', label = 'Training AUC');\n",
    "\n",
    "a = list(cv_scores.keys())\n",
    "CV_n_estimators = [i[0] for i in a]\n",
    "CV_max_depth = [i[1] for i in a]\n",
    "CV_values = list(cv_scores.values())\n",
    "ax.scatter3D(CV_n_estimators, CV_max_depth, CV_values, c=CV_values, cmap='Reds', label = 'Cross Validation AUC');\n",
    "\n",
    "ax.set_xlabel('n_estimators')\n",
    "ax.set_ylabel('max_depth')\n",
    "ax.set_zlabel('AUC');\n",
    "ax.legend()\n",
    "plt.show()"
   ]
  },
  {
   "cell_type": "code",
   "execution_count": null,
   "metadata": {},
   "outputs": [],
   "source": [
    "# Testing on test data for best n_estimators and max_depth value value obtained from simple cross validation\n",
    "model = XGBClassifier(random_state=101,n_estimators= 500, max_depth=500, n_jobs=-1)\n",
    "model.fit(x_trBOW, y_tr)\n",
    "train_pred = model.predict(x_trBOW)"
   ]
  },
  {
   "cell_type": "markdown",
   "metadata": {},
   "source": [
    "### Receiver Operating Characteristic (ROC) Train data"
   ]
  },
  {
   "cell_type": "code",
   "execution_count": null,
   "metadata": {},
   "outputs": [],
   "source": [
    "fpr, tpr, thresholds = metrics.roc_curve(y_tr, train_pred)\n",
    "roc_auc = auc(fpr, tpr)\n",
    "# Plot ROC curve\n",
    "plt.plot(fpr, tpr, label='ROC curve (area = %0.3f)' % roc_auc)\n",
    "plt.plot([0, 1], [0, 1], 'k--')  # random predictions curve\n",
    "plt.xlim([0.0, 1.0])\n",
    "plt.ylim([0.0, 1.0])\n",
    "plt.xlabel('False Positive Rate or (1 - Specifity)')\n",
    "plt.ylabel('True Positive Rate or (Sensitivity)')\n",
    "plt.title('Receiver Operating Characteristic')\n",
    "plt.legend(loc=\"lower right\")"
   ]
  },
  {
   "cell_type": "markdown",
   "metadata": {},
   "source": [
    "### Receiver Operating Characteristic (ROC) Test data"
   ]
  },
  {
   "cell_type": "code",
   "execution_count": null,
   "metadata": {},
   "outputs": [],
   "source": [
    "pred = model.predict(x_tsBOW)\n",
    "fpr, tpr, thresholds = metrics.roc_curve(y_test, pred)\n",
    "metrics.auc(fpr, tpr)"
   ]
  },
  {
   "cell_type": "code",
   "execution_count": null,
   "metadata": {},
   "outputs": [],
   "source": [
    "fpr, tpr, thresholds = metrics.roc_curve(y_test, pred)\n",
    "roc_auc = auc(fpr, tpr)\n",
    "# Plot ROC curve\n",
    "plt.plot(fpr, tpr, label='ROC curve (area = %0.3f)' % roc_auc)\n",
    "plt.plot([0, 1], [0, 1], 'k--')  # random predictions curve\n",
    "plt.xlim([0.0, 1.0])\n",
    "plt.ylim([0.0, 1.0])\n",
    "plt.xlabel('False Positive Rate or (1 - Specifity)')\n",
    "plt.ylabel('True Positive Rate or (Sensitivity)')\n",
    "plt.title('Receiver Operating Characteristic')\n",
    "plt.legend(loc=\"lower right\")"
   ]
  },
  {
   "cell_type": "markdown",
   "metadata": {},
   "source": [
    "#### Observation: From simple cross validation we found the best n_estimators and max_depth to be 500, 500 and AUC increase as we increase n_estimators from 10. The test AUC for n_estimators = 500 and max_depth = 500 is 0.75610, stating the model did not overfit."
   ]
  },
  {
   "cell_type": "markdown",
   "metadata": {},
   "source": [
    "### Performance metrics of classification for train and test data"
   ]
  },
  {
   "cell_type": "code",
   "execution_count": null,
   "metadata": {},
   "outputs": [],
   "source": [
    "# Testing on train data for best n_estimators and max_depth obtained from simple cross validation\n",
    "train_pred = model.predict(x_trBOW)\n",
    "# confusion matrix for train data\n",
    "mat = confusion_matrix(y_tr, train_pred)\n",
    "target_names = ['Positive', 'Negative']\n",
    "sns.heatmap(mat.T, square=True, annot=True, fmt='d', cbar=False,\n",
    "            xticklabels=target_names, yticklabels=target_names)\n",
    "plt.xlabel('True label')\n",
    "plt.ylabel('Predicted label');"
   ]
  },
  {
   "cell_type": "code",
   "execution_count": null,
   "metadata": {},
   "outputs": [],
   "source": [
    "# confusion matrix for test data\n",
    "confusion_matrix(y_test, pred)"
   ]
  },
  {
   "cell_type": "code",
   "execution_count": null,
   "metadata": {},
   "outputs": [],
   "source": [
    "mat = confusion_matrix(y_test, pred)\n",
    "target_names = ['Positive', 'Negative']\n",
    "sns.heatmap(mat.T, square=True, annot=True, fmt='d', cbar=False,\n",
    "            xticklabels=target_names, yticklabels=target_names)\n",
    "plt.xlabel('True label')\n",
    "plt.ylabel('Predicted label');"
   ]
  },
  {
   "cell_type": "markdown",
   "metadata": {},
   "source": [
    "#### Observations: Correctly classified points in the test data are 18563 ( = 1296 + 17267) from confusion matrix and misclassified points are 1437 ( = 279 + 1158)"
   ]
  },
  {
   "cell_type": "markdown",
   "metadata": {},
   "source": [
    "### [5.2.2] Applying XGBOOST on TFIDF, SET 2"
   ]
  },
  {
   "cell_type": "code",
   "execution_count": null,
   "metadata": {},
   "outputs": [],
   "source": [
    "# Reading the previously created BoW100k feature matirx.\n",
    "x_trTFIDF = joblib.load('x_train_TFIDF.joblib')\n",
    "x_CVTFIDF = joblib.load('x_CV_TFIDF.joblib')\n",
    "x_tsTFIDF = joblib.load('x_test_TFIDF.joblib')\n",
    "# x_trTFIDF x_CVTFIDF x_tsTFIDF\n",
    "\n",
    "# Reading the previously created dependent matrix\n",
    "y_tr = joblib.load('y_tr.joblib')\n",
    "y_CV = joblib.load('y_cv.joblib')\n",
    "y_test = joblib.load('y_test.joblib')\n",
    "# y_tr y_CV y_test\n",
    "\n",
    "# label encoding\n",
    "y_tr = np.array(pd.get_dummies(y_tr,drop_first=True))\n",
    "y_CV = np.array(pd.get_dummies(y_CV,drop_first=True))\n",
    "y_test = np.array(pd.get_dummies(y_test,drop_first=True))\n",
    "\n",
    "# Reshaping\n",
    "y_tr = y_tr.reshape(y_tr.shape[0])\n",
    "y_CV = y_CV.reshape(y_CV.shape[0])\n",
    "y_test = y_test.reshape(y_test.shape[0])"
   ]
  },
  {
   "cell_type": "code",
   "execution_count": null,
   "metadata": {},
   "outputs": [],
   "source": [
    "cv_scores = {}\n",
    "TR_scores = {}\n",
    "for i in [10, 50, 100, 200, 500]:\n",
    "    for j in [1, 5, 10, 100, 500]:\n",
    "        # instantiate learning model\n",
    "        model = XGBClassifier(n_estimators= i, max_depth=j, random_state=101, n_jobs = -1)\n",
    "        model.fit(x_trTFIDF, y_tr) # fitting the model on train data\n",
    "        train_pred = model.predict(x_trTFIDF) # predict the response on the train data\n",
    "        pred = model.predict(x_CVTFIDF) # predict the response on the cross-validation data\n",
    "        \n",
    "        # evaluate train AUC\n",
    "        fpr, tpr, thresholds = metrics.roc_curve(y_tr, train_pred)\n",
    "        train_AUC = metrics.auc(fpr, tpr)\n",
    "        # evaluate CV AUC\n",
    "        fpr, tpr, thresholds = metrics.roc_curve(y_CV, pred)\n",
    "        CV_AUC = metrics.auc(fpr, tpr)\n",
    "\n",
    "        #print('\\nCV AUC for max_depth =',i,'and min_samples_split = ',j,'is',CV_AUC)\n",
    "        cv_scores.update({(i,j):CV_AUC})\n",
    "        TR_scores.update({(i,j):train_AUC})"
   ]
  },
  {
   "cell_type": "code",
   "execution_count": null,
   "metadata": {},
   "outputs": [],
   "source": [
    "# Saving the scores obtained on train data and cross validation data. \n",
    "from sklearn.externals import joblib\n",
    "joblib.dump(cv_scores, 'cv_scores_XGB_TFIDF.joblib')\n",
    "joblib.dump(TR_scores, 'TR_scores_XGB_TFIDF.joblib')"
   ]
  },
  {
   "cell_type": "code",
   "execution_count": null,
   "metadata": {},
   "outputs": [],
   "source": [
    "cv_scores = joblib.load('cv_scores_XGB_TFIDF.joblib')\n",
    "TR_scores = joblib.load('TR_scores_XGB_TFIDF.joblib')"
   ]
  },
  {
   "cell_type": "code",
   "execution_count": null,
   "metadata": {},
   "outputs": [],
   "source": [
    "max(zip(cv_scores.values(), cv_scores.keys()))"
   ]
  },
  {
   "cell_type": "markdown",
   "metadata": {},
   "source": [
    "#### Observations: 0.73606 is the highest AUC with n_estimators = 500 and max_depth = 500. The AUC for the various combination(24) of the n_estimators and max_depth is varying respectively."
   ]
  },
  {
   "cell_type": "markdown",
   "metadata": {},
   "source": [
    "### Plot of AUC w.r.t. n_estimators and max_depth value on training and cross validation data.¶"
   ]
  },
  {
   "cell_type": "code",
   "execution_count": null,
   "metadata": {},
   "outputs": [],
   "source": [
    "# Plot of AUC w.r.t. n_estimators on training and cross validation data\n",
    "cv_scores = joblib.load('cv_scores_XGB_TFIDF.joblib')\n",
    "TR_scores = joblib.load('TR_scores_XGB_TFIDF.joblib')\n",
    "\n",
    "TR_n_estimators = [10, 50, 100, 200, 500]\n",
    "TR_values = [np.array([TR_scores[i] for i in TR_scores.keys() if i[0]==k]).max() for k in TR_n_estimators]\n",
    "plt.plot(TR_n_estimators, TR_values, label = 'Training AUC')\n",
    "\n",
    "\n",
    "CV_n_estimators = [10, 50, 100, 200, 500]\n",
    "CV_values = [np.array([cv_scores[i] for i in cv_scores.keys() if i[0]==k]).max() for k in CV_n_estimators]\n",
    "plt.plot(CV_n_estimators, CV_values, label = 'Cross Validation AUC')\n",
    "\n",
    "plt.xlabel('n_estimators')\n",
    "plt.ylabel('AUC');\n",
    "plt.legend()\n",
    "plt.show()"
   ]
  },
  {
   "cell_type": "code",
   "execution_count": null,
   "metadata": {},
   "outputs": [],
   "source": [
    "# Plot of AUC w.r.t. max_depth on training and cross validation data\n",
    "cv_scores = joblib.load('cv_scores_XGB_TFIDF.joblib')\n",
    "TR_scores = joblib.load('TR_scores_XGB_TFIDF.joblib')\n",
    "\n",
    "TR_max_depth = [1, 5, 10, 100, 500]\n",
    "TR_values = [np.array([TR_scores[i] for i in TR_scores.keys() if i[1]==k]).max() for k in TR_max_depth]\n",
    "plt.plot(TR_max_depth, TR_values, label = 'Training AUC')\n",
    "\n",
    "\n",
    "CV_max_depth = [1, 5, 10, 100, 500]\n",
    "CV_values = [np.array([cv_scores[i] for i in cv_scores.keys() if i[1]==k]).max() for k in CV_max_depth]\n",
    "plt.plot(CV_max_depth,CV_values, label = 'Cross Validation AUC')\n",
    "\n",
    "plt.xlabel('max_depth')\n",
    "plt.ylabel('AUC');\n",
    "plt.legend()\n",
    "plt.show()"
   ]
  },
  {
   "cell_type": "code",
   "execution_count": null,
   "metadata": {},
   "outputs": [],
   "source": [
    "# Plot of AUC w.r.t. n_estimators and max_depth value on training and cross validation data\n",
    "cv_scores = joblib.load('cv_scores_XGB_TFIDF.joblib')\n",
    "TR_scores = joblib.load('TR_scores_XGB_TFIDF.joblib')\n",
    "\n",
    "fig = plt.figure(figsize=(8,7))\n",
    "a = list(TR_scores.keys())\n",
    "TR_n_estimators = [i[0] for i in a]\n",
    "TR_max_depth = [i[1] for i in a]\n",
    "TR_values = list(TR_scores.values())\n",
    "ax = plt.axes(projection='3d')\n",
    "ax.scatter3D(TR_n_estimators, TR_max_depth, TR_values, c=TR_values, cmap='Blues', label = 'Training AUC');\n",
    "\n",
    "a = list(cv_scores.keys())\n",
    "CV_n_estimators = [i[0] for i in a]\n",
    "CV_max_depth = [i[1] for i in a]\n",
    "CV_values = list(cv_scores.values())\n",
    "ax.scatter3D(CV_n_estimators, CV_max_depth, CV_values, c=CV_values, cmap='Reds', label = 'Cross Validation AUC');\n",
    "\n",
    "ax.set_xlabel('n_estimators')\n",
    "ax.set_ylabel('max_depth')\n",
    "ax.set_zlabel('AUC');\n",
    "ax.legend()\n",
    "plt.show()"
   ]
  },
  {
   "cell_type": "code",
   "execution_count": null,
   "metadata": {},
   "outputs": [],
   "source": [
    "# Testing on test data for best n_estimators and max_depth value obtained from simple cross validation\n",
    "model = XGBClassifier(random_state=101,n_estimators= 500, max_depth=500, n_jobs=-1)\n",
    "model.fit(x_trTFIDF, y_tr)\n",
    "train_pred = model.predict(x_trTFIDF)"
   ]
  },
  {
   "cell_type": "markdown",
   "metadata": {},
   "source": [
    "### Receiver Operating Characteristic (ROC) Train data"
   ]
  },
  {
   "cell_type": "code",
   "execution_count": null,
   "metadata": {},
   "outputs": [],
   "source": [
    "fpr, tpr, thresholds = metrics.roc_curve(y_tr, train_pred)\n",
    "roc_auc = auc(fpr, tpr)\n",
    "# Plot ROC curve\n",
    "plt.plot(fpr, tpr, label='ROC curve (area = %0.3f)' % roc_auc)\n",
    "plt.plot([0, 1], [0, 1], 'k--')  # random predictions curve\n",
    "plt.xlim([0.0, 1.0])\n",
    "plt.ylim([0.0, 1.0])\n",
    "plt.xlabel('False Positive Rate or (1 - Specifity)')\n",
    "plt.ylabel('True Positive Rate or (Sensitivity)')\n",
    "plt.title('Receiver Operating Characteristic')\n",
    "plt.legend(loc=\"lower right\")"
   ]
  },
  {
   "cell_type": "markdown",
   "metadata": {},
   "source": [
    "### Receiver Operating Characteristic (ROC) Test data"
   ]
  },
  {
   "cell_type": "code",
   "execution_count": null,
   "metadata": {},
   "outputs": [],
   "source": [
    "pred = model.predict(x_tsTFIDF)\n",
    "fpr, tpr, thresholds = metrics.roc_curve(y_test, pred)\n",
    "metrics.auc(fpr, tpr)"
   ]
  },
  {
   "cell_type": "code",
   "execution_count": null,
   "metadata": {},
   "outputs": [],
   "source": [
    "fpr, tpr, thresholds = metrics.roc_curve(y_test, pred)\n",
    "roc_auc = auc(fpr, tpr)\n",
    "# Plot ROC curve\n",
    "plt.plot(fpr, tpr, label='ROC curve (area = %0.3f)' % roc_auc)\n",
    "plt.plot([0, 1], [0, 1], 'k--')  # random predictions curve\n",
    "plt.xlim([0.0, 1.0])\n",
    "plt.ylim([0.0, 1.0])\n",
    "plt.xlabel('False Positive Rate or (1 - Specifity)')\n",
    "plt.ylabel('True Positive Rate or (Sensitivity)')\n",
    "plt.title('Receiver Operating Characteristic')\n",
    "plt.legend(loc=\"lower right\")"
   ]
  },
  {
   "cell_type": "markdown",
   "metadata": {},
   "source": [
    "#### Observation: From simple cross validation we found the best n_estimators and max_depth to be 500, 500 and AUC increase as we increase n_estimators from 10. The test AUC for n_estimators = 500 and max_depth = 500 is 0.74434, stating the model did not overfit."
   ]
  },
  {
   "cell_type": "markdown",
   "metadata": {},
   "source": [
    "### Performance metrics of classification for train and test data"
   ]
  },
  {
   "cell_type": "code",
   "execution_count": null,
   "metadata": {},
   "outputs": [],
   "source": [
    "# Testing on train data for best n_estimators and max_depth obtained from simple cross validation\n",
    "train_pred = model.predict(x_trTFIDF)\n",
    "# confusion matrix for train data\n",
    "mat = confusion_matrix(y_tr, train_pred)\n",
    "target_names = ['Positive', 'Negative']\n",
    "sns.heatmap(mat.T, square=True, annot=True, fmt='d', cbar=False,\n",
    "            xticklabels=target_names, yticklabels=target_names)\n",
    "plt.xlabel('True label')\n",
    "plt.ylabel('Predicted label');"
   ]
  },
  {
   "cell_type": "code",
   "execution_count": null,
   "metadata": {},
   "outputs": [],
   "source": [
    "# confusion matrix for test data\n",
    "confusion_matrix(y_test, pred)"
   ]
  },
  {
   "cell_type": "code",
   "execution_count": null,
   "metadata": {},
   "outputs": [],
   "source": [
    "mat = confusion_matrix(y_test, pred)\n",
    "target_names = ['Positive', 'Negative']\n",
    "sns.heatmap(mat.T, square=True, annot=True, fmt='d', cbar=False,\n",
    "            xticklabels=target_names, yticklabels=target_names)\n",
    "plt.xlabel('True label')\n",
    "plt.ylabel('Predicted label');"
   ]
  },
  {
   "cell_type": "markdown",
   "metadata": {},
   "source": [
    "#### Observations: Correctly classified points in the test data are 18513 ( = 1237 + 17276) from confusion matrix and misclassified points are 1487 ( = 270 + 1217)"
   ]
  },
  {
   "cell_type": "markdown",
   "metadata": {},
   "source": [
    "### [5.2.3] Applying XGBOOST on AVG W2V, SET 3"
   ]
  },
  {
   "cell_type": "code",
   "execution_count": null,
   "metadata": {},
   "outputs": [],
   "source": [
    "# Reading the previously created BoW100k feature matirx.\n",
    "x_train_AVG_W2V = joblib.load('x_train_AVG_W2V.joblib')\n",
    "x_CV_AVG_W2V = joblib.load('x_CV_AVG_W2V.joblib')\n",
    "x_test_AVG_W2V = joblib.load('x_test_AVG_W2V.joblib')\n",
    "# x_train_AVG_W2V x_CV_AVG_W2V x_test_AVG_W2V\n",
    "\n",
    "# Reading the previously created dependent matrix\n",
    "y_tr = joblib.load('y_tr.joblib')\n",
    "y_CV = joblib.load('y_cv.joblib')\n",
    "y_test = joblib.load('y_test.joblib')\n",
    "# y_tr y_CV y_test\n",
    "\n",
    "# label encoding\n",
    "y_tr = np.array(pd.get_dummies(y_tr,drop_first=True))\n",
    "y_CV = np.array(pd.get_dummies(y_CV,drop_first=True))\n",
    "y_test = np.array(pd.get_dummies(y_test,drop_first=True))\n",
    "\n",
    "# Reshaping\n",
    "y_tr = y_tr.reshape(y_tr.shape[0])\n",
    "y_CV = y_CV.reshape(y_CV.shape[0])\n",
    "y_test = y_test.reshape(y_test.shape[0])"
   ]
  },
  {
   "cell_type": "code",
   "execution_count": null,
   "metadata": {},
   "outputs": [],
   "source": [
    "cv_scores = {}\n",
    "TR_scores = {}\n",
    "for i in [10, 50, 100, 200, 500]:\n",
    "    for j in [1, 5, 10, 100, 500]:\n",
    "        # instantiate learning model\n",
    "        model = XGBClassifier(n_estimators= i, max_depth=j, random_state=101, n_jobs = -1)\n",
    "        model.fit(x_train_AVG_W2V, y_tr) # fitting the model on train data\n",
    "        train_pred = model.predict(x_train_AVG_W2V) # predict the response on the train data\n",
    "        pred = model.predict(x_CV_AVG_W2V) # predict the response on the cross-validation data\n",
    "        \n",
    "        # evaluate train AUC\n",
    "        fpr, tpr, thresholds = metrics.roc_curve(y_tr, train_pred)\n",
    "        train_AUC = metrics.auc(fpr, tpr)\n",
    "        # evaluate CV AUC\n",
    "        fpr, tpr, thresholds = metrics.roc_curve(y_CV, pred)\n",
    "        CV_AUC = metrics.auc(fpr, tpr)\n",
    "\n",
    "        #print('\\nCV AUC for max_depth =',i,'and min_samples_split = ',j,'is',CV_AUC)\n",
    "        cv_scores.update({(i,j):CV_AUC})\n",
    "        TR_scores.update({(i,j):train_AUC})"
   ]
  },
  {
   "cell_type": "code",
   "execution_count": null,
   "metadata": {},
   "outputs": [],
   "source": [
    "# Saving the scores obtained on train data and cross validation data. \n",
    "from sklearn.externals import joblib\n",
    "joblib.dump(cv_scores, 'cv_scores_XGB_AVG_W2V.joblib')\n",
    "joblib.dump(TR_scores, 'TR_scores_XGB_AVG_W2V.joblib')"
   ]
  },
  {
   "cell_type": "code",
   "execution_count": null,
   "metadata": {},
   "outputs": [],
   "source": [
    "cv_scores = joblib.load('cv_scores_XGB_AVG_W2V.joblib')\n",
    "TR_scores = joblib.load('TR_scores_XGB_AVG_W2V.joblib')"
   ]
  },
  {
   "cell_type": "code",
   "execution_count": null,
   "metadata": {},
   "outputs": [],
   "source": [
    "max(zip(cv_scores.values(), cv_scores.keys()))"
   ]
  },
  {
   "cell_type": "markdown",
   "metadata": {},
   "source": [
    "#### Observations: 0.73606 is the highest AUC with n_estimators = 500 and max_depth = 500. The AUC for the various combination(24) of the n_estimators and max_depth is varying respectively."
   ]
  },
  {
   "cell_type": "markdown",
   "metadata": {},
   "source": [
    "### Plot of AUC w.r.t. n_estimators and max_depth value on training and cross validation data.¶"
   ]
  },
  {
   "cell_type": "code",
   "execution_count": null,
   "metadata": {},
   "outputs": [],
   "source": [
    "# Plot of AUC w.r.t. n_estimators on training and cross validation data\n",
    "cv_scores = joblib.load('cv_scores_XGB_AVG_W2V.joblib')\n",
    "TR_scores = joblib.load('TR_scores_XGB_AVG_W2V.joblib')\n",
    "\n",
    "TR_n_estimators = [10, 50, 100, 200, 500]\n",
    "TR_values = [np.array([TR_scores[i] for i in TR_scores.keys() if i[0]==k]).max() for k in TR_n_estimators]\n",
    "plt.plot(TR_n_estimators, TR_values, label = 'Training AUC')\n",
    "\n",
    "\n",
    "CV_n_estimators = [10, 50, 100, 200, 500]\n",
    "CV_values = [np.array([cv_scores[i] for i in cv_scores.keys() if i[0]==k]).max() for k in CV_n_estimators]\n",
    "plt.plot(CV_n_estimators, CV_values, label = 'Cross Validation AUC')\n",
    "\n",
    "plt.xlabel('n_estimators')\n",
    "plt.ylabel('AUC');\n",
    "plt.legend()\n",
    "plt.show()"
   ]
  },
  {
   "cell_type": "code",
   "execution_count": null,
   "metadata": {},
   "outputs": [],
   "source": [
    "# Plot of AUC w.r.t. max_depth on training and cross validation data\n",
    "cv_scores = joblib.load('cv_scores_XGB_AVG_W2V.joblib')\n",
    "TR_scores = joblib.load('TR_scores_XGB_AVG_W2V.joblib')\n",
    "\n",
    "TR_max_depth = [1, 5, 10, 100, 500]\n",
    "TR_values = [np.array([TR_scores[i] for i in TR_scores.keys() if i[1]==k]).max() for k in TR_max_depth]\n",
    "plt.plot(TR_max_depth, TR_values, label = 'Training AUC')\n",
    "\n",
    "\n",
    "CV_max_depth = [1, 5, 10, 100, 500]\n",
    "CV_values = [np.array([cv_scores[i] for i in cv_scores.keys() if i[1]==k]).max() for k in CV_max_depth]\n",
    "plt.plot(CV_max_depth,CV_values, label = 'Cross Validation AUC')\n",
    "\n",
    "plt.xlabel('max_depth')\n",
    "plt.ylabel('AUC');\n",
    "plt.legend()\n",
    "plt.show()"
   ]
  },
  {
   "cell_type": "code",
   "execution_count": null,
   "metadata": {},
   "outputs": [],
   "source": [
    "# Plot of AUC w.r.t. n_estimators and max_depth value on training and cross validation data\n",
    "cv_scores = joblib.load('cv_scores_XGB_AVG_W2V.joblib')\n",
    "TR_scores = joblib.load('TR_scores_XGB_AVG_W2V.joblib')\n",
    "\n",
    "fig = plt.figure(figsize=(8,7))\n",
    "a = list(TR_scores.keys())\n",
    "TR_n_estimators = [i[0] for i in a]\n",
    "TR_max_depth = [i[1] for i in a]\n",
    "TR_values = list(TR_scores.values())\n",
    "ax = plt.axes(projection='3d')\n",
    "ax.scatter3D(TR_n_estimators, TR_max_depth, TR_values, c=TR_values, cmap='Blues', label = 'Training AUC');\n",
    "\n",
    "a = list(cv_scores.keys())\n",
    "CV_n_estimators = [i[0] for i in a]\n",
    "CV_max_depth = [i[1] for i in a]\n",
    "CV_values = list(cv_scores.values())\n",
    "ax.scatter3D(CV_n_estimators, CV_max_depth, CV_values, c=CV_values, cmap='Reds', label = 'Cross Validation AUC');\n",
    "\n",
    "ax.set_xlabel('n_estimators')\n",
    "ax.set_ylabel('max_depth')\n",
    "ax.set_zlabel('AUC');\n",
    "ax.legend()\n",
    "plt.show()"
   ]
  },
  {
   "cell_type": "code",
   "execution_count": null,
   "metadata": {},
   "outputs": [],
   "source": [
    "# Testing on test data for best n_estimators and max_depth value obtained from simple cross validation\n",
    "model = XGBClassifier(random_state=101,n_estimators= 500, max_depth=500, n_jobs=-1)\n",
    "model.fit(x_train_AVG_W2V, y_tr)\n",
    "train_pred = model.predict(x_train_AVG_W2V)"
   ]
  },
  {
   "cell_type": "markdown",
   "metadata": {},
   "source": [
    "### Receiver Operating Characteristic (ROC) Train data"
   ]
  },
  {
   "cell_type": "code",
   "execution_count": null,
   "metadata": {},
   "outputs": [],
   "source": [
    "fpr, tpr, thresholds = metrics.roc_curve(y_tr, train_pred)\n",
    "roc_auc = auc(fpr, tpr)\n",
    "# Plot ROC curve\n",
    "plt.plot(fpr, tpr, label='ROC curve (area = %0.3f)' % roc_auc)\n",
    "plt.plot([0, 1], [0, 1], 'k--')  # random predictions curve\n",
    "plt.xlim([0.0, 1.0])\n",
    "plt.ylim([0.0, 1.0])\n",
    "plt.xlabel('False Positive Rate or (1 - Specifity)')\n",
    "plt.ylabel('True Positive Rate or (Sensitivity)')\n",
    "plt.title('Receiver Operating Characteristic')\n",
    "plt.legend(loc=\"lower right\")"
   ]
  },
  {
   "cell_type": "markdown",
   "metadata": {},
   "source": [
    "### Receiver Operating Characteristic (ROC) Test data"
   ]
  },
  {
   "cell_type": "code",
   "execution_count": null,
   "metadata": {},
   "outputs": [],
   "source": [
    "pred = model.predict(x_test_AVG_W2V)\n",
    "fpr, tpr, thresholds = metrics.roc_curve(y_test, pred)\n",
    "metrics.auc(fpr, tpr)"
   ]
  },
  {
   "cell_type": "code",
   "execution_count": null,
   "metadata": {},
   "outputs": [],
   "source": [
    "fpr, tpr, thresholds = metrics.roc_curve(y_test, pred)\n",
    "roc_auc = auc(fpr, tpr)\n",
    "# Plot ROC curve\n",
    "plt.plot(fpr, tpr, label='ROC curve (area = %0.3f)' % roc_auc)\n",
    "plt.plot([0, 1], [0, 1], 'k--')  # random predictions curve\n",
    "plt.xlim([0.0, 1.0])\n",
    "plt.ylim([0.0, 1.0])\n",
    "plt.xlabel('False Positive Rate or (1 - Specifity)')\n",
    "plt.ylabel('True Positive Rate or (Sensitivity)')\n",
    "plt.title('Receiver Operating Characteristic')\n",
    "plt.legend(loc=\"lower right\")"
   ]
  },
  {
   "cell_type": "markdown",
   "metadata": {},
   "source": [
    "#### Observation: From simple cross validation we found the best n_estimators and max_depth to be 500, 500 and AUC increase as we increase n_estimators from 10. The test AUC for n_estimators = 500 and max_depth = 500 is 0.68840, stating the model did not overfit."
   ]
  },
  {
   "cell_type": "markdown",
   "metadata": {},
   "source": [
    "### Performance metrics of classification for train and test data"
   ]
  },
  {
   "cell_type": "code",
   "execution_count": null,
   "metadata": {},
   "outputs": [],
   "source": [
    "# Testing on train data for best n_estimators and max_depth obtained from simple cross validation\n",
    "train_pred = model.predict(x_train_AVG_W2V)\n",
    "# confusion matrix for train data\n",
    "mat = confusion_matrix(y_tr, train_pred)\n",
    "target_names = ['Positive', 'Negative']\n",
    "sns.heatmap(mat.T, square=True, annot=True, fmt='d', cbar=False,\n",
    "            xticklabels=target_names, yticklabels=target_names)\n",
    "plt.xlabel('True label')\n",
    "plt.ylabel('Predicted label');"
   ]
  },
  {
   "cell_type": "code",
   "execution_count": null,
   "metadata": {},
   "outputs": [],
   "source": [
    "# confusion matrix for test data\n",
    "confusion_matrix(y_test, pred)"
   ]
  },
  {
   "cell_type": "code",
   "execution_count": null,
   "metadata": {},
   "outputs": [],
   "source": [
    "mat = confusion_matrix(y_test, pred)\n",
    "target_names = ['Positive', 'Negative']\n",
    "sns.heatmap(mat.T, square=True, annot=True, fmt='d', cbar=False,\n",
    "            xticklabels=target_names, yticklabels=target_names)\n",
    "plt.xlabel('True label')\n",
    "plt.ylabel('Predicted label');"
   ]
  },
  {
   "cell_type": "markdown",
   "metadata": {},
   "source": [
    "#### Observations: Correctly classified points in the test data are 18229 ( = 964 + 17265) from confusion matrix and misclassified points are 1771 ( = 281 + 1490)"
   ]
  },
  {
   "cell_type": "markdown",
   "metadata": {},
   "source": [
    "### [5.2.4] Applying XGBOOST on TFIDF W2V, SET 4"
   ]
  },
  {
   "cell_type": "code",
   "execution_count": null,
   "metadata": {},
   "outputs": [],
   "source": [
    "# Reading the previously created BoW100k feature matirx.\n",
    "x_train_AVG_TFIDF_W_W2V = joblib.load('x_train_AVG_TFIDF_weighted_W2V.joblib')\n",
    "x_CV_AVG_TFIDF_W_W2V = joblib.load('x_CV_AVG_TFIDF_weighted_W2V.joblib')\n",
    "x_test_AVG_TFIDF_W_W2V = joblib.load('x_test_AVG_TFIDF_weighted_W2V.joblib')\n",
    "# x_train_AVG_TFIDF_W_W2V    x_CV_AVG_TFIDF_W_W2V    x_test_AVG_TFIDF_W_W2V\n",
    "\n",
    "# Reading the previously created dependent matrix\n",
    "y_tr = joblib.load('y_tr.joblib')\n",
    "y_CV = joblib.load('y_cv.joblib')\n",
    "y_test = joblib.load('y_test.joblib')\n",
    "# y_tr y_CV y_test\n",
    "\n",
    "# label encoding\n",
    "y_tr = np.array(pd.get_dummies(y_tr,drop_first=True))\n",
    "y_CV = np.array(pd.get_dummies(y_CV,drop_first=True))\n",
    "y_test = np.array(pd.get_dummies(y_test,drop_first=True))\n",
    "\n",
    "# Reshaping\n",
    "y_tr = y_tr.reshape(y_tr.shape[0])\n",
    "y_CV = y_CV.reshape(y_CV.shape[0])\n",
    "y_test = y_test.reshape(y_test.shape[0])"
   ]
  },
  {
   "cell_type": "code",
   "execution_count": null,
   "metadata": {},
   "outputs": [],
   "source": [
    "cv_scores = {}\n",
    "TR_scores = {}\n",
    "for i in [10, 50, 100, 200, 500]:\n",
    "    for j in [1, 5, 10, 100, 500]:\n",
    "        # instantiate learning model\n",
    "        model = XGBClassifier(n_estimators= i, max_depth=j, random_state=101, n_jobs = -1)\n",
    "        model.fit(x_train_AVG_TFIDF_W_W2V, y_tr) # fitting the model on train data\n",
    "        train_pred = model.predict(x_train_AVG_TFIDF_W_W2V) # predict the response on the train data\n",
    "        pred = model.predict(x_CV_AVG_TFIDF_W_W2V) # predict the response on the cross-validation data\n",
    "        \n",
    "        # evaluate train AUC\n",
    "        fpr, tpr, thresholds = metrics.roc_curve(y_tr, train_pred)\n",
    "        train_AUC = metrics.auc(fpr, tpr)\n",
    "        # evaluate CV AUC\n",
    "        fpr, tpr, thresholds = metrics.roc_curve(y_CV, pred)\n",
    "        CV_AUC = metrics.auc(fpr, tpr)\n",
    "\n",
    "        #print('\\nCV AUC for max_depth =',i,'and min_samples_split = ',j,'is',CV_AUC)\n",
    "        cv_scores.update({(i,j):CV_AUC})\n",
    "        TR_scores.update({(i,j):train_AUC})"
   ]
  },
  {
   "cell_type": "code",
   "execution_count": null,
   "metadata": {},
   "outputs": [],
   "source": [
    "# Saving the scores obtained on train data and cross validation data. \n",
    "joblib.dump(cv_scores, 'cv_scores_XGB_AVG_TFIDF_W_W2V.joblib')\n",
    "joblib.dump(TR_scores, 'TR_scores_XGB_AVG_TFIDF_W_W2V.joblib')"
   ]
  },
  {
   "cell_type": "code",
   "execution_count": null,
   "metadata": {},
   "outputs": [],
   "source": [
    "cv_scores = joblib.load('cv_scores_XGB_AVG_TFIDF_W_W2V.joblib')\n",
    "TR_scores = joblib.load('TR_scores_XGB_AVG_TFIDF_W_W2V.joblib')"
   ]
  },
  {
   "cell_type": "code",
   "execution_count": null,
   "metadata": {},
   "outputs": [],
   "source": [
    "max(zip(cv_scores.values(), cv_scores.keys()))  "
   ]
  },
  {
   "cell_type": "markdown",
   "metadata": {},
   "source": [
    "#### Observations: 0.66645 is the highest AUC with n_estimators = 500 and max_depth = 5. The AUC for the various combination(24) of the n_estimators and max_depth is varying respectively."
   ]
  },
  {
   "cell_type": "markdown",
   "metadata": {},
   "source": [
    "### Plot of AUC w.r.t. n_estimators and max_depth value on training and cross validation data."
   ]
  },
  {
   "cell_type": "code",
   "execution_count": null,
   "metadata": {},
   "outputs": [],
   "source": [
    "# Plot of AUC w.r.t. n_estimators on training and cross validation data\n",
    "cv_scores = joblib.load('cv_scores_XGB_AVG_TFIDF_W_W2V.joblib')\n",
    "TR_scores = joblib.load('TR_scores_XGB_AVG_TFIDF_W_W2V.joblib')\n",
    "\n",
    "TR_n_estimators = [10, 50, 100, 200, 500]\n",
    "TR_values = [np.array([TR_scores[i] for i in TR_scores.keys() if i[0]==k]).max() for k in TR_n_estimators]\n",
    "plt.plot(TR_n_estimators, TR_values, label = 'Training AUC')\n",
    "\n",
    "\n",
    "CV_n_estimators = [10, 50, 100, 200, 500]\n",
    "CV_values = [np.array([cv_scores[i] for i in cv_scores.keys() if i[0]==k]).max() for k in CV_n_estimators]\n",
    "plt.plot(CV_n_estimators, CV_values, label = 'Cross Validation AUC')\n",
    "\n",
    "plt.xlabel('n_estimators')\n",
    "plt.ylabel('AUC');\n",
    "plt.legend()\n",
    "plt.show()"
   ]
  },
  {
   "cell_type": "code",
   "execution_count": null,
   "metadata": {},
   "outputs": [],
   "source": [
    "# Plot of AUC w.r.t. max_depth on training and cross validation data\n",
    "cv_scores = joblib.load('cv_scores_XGB_AVG_TFIDF_W_W2V.joblib')\n",
    "TR_scores = joblib.load('TR_scores_XGB_AVG_TFIDF_W_W2V.joblib')\n",
    "\n",
    "TR_max_depth = [1, 5, 10, 100, 500]\n",
    "TR_values = [np.array([TR_scores[i] for i in TR_scores.keys() if i[1]==k]).max() for k in TR_max_depth]\n",
    "plt.plot(TR_max_depth, TR_values, label = 'Training AUC')\n",
    "\n",
    "\n",
    "CV_max_depth = [1, 5, 10, 100, 500]\n",
    "CV_values = [np.array([cv_scores[i] for i in cv_scores.keys() if i[1]==k]).max() for k in CV_max_depth]\n",
    "plt.plot(CV_max_depth,CV_values, label = 'Cross Validation AUC')\n",
    "\n",
    "plt.xlabel('max_depth')\n",
    "plt.ylabel('AUC');\n",
    "plt.legend()\n",
    "plt.show()"
   ]
  },
  {
   "cell_type": "code",
   "execution_count": null,
   "metadata": {},
   "outputs": [],
   "source": [
    "# Plot of AUC w.r.t. n_estimators and max_depth value on training and cross validation data\n",
    "cv_scores = joblib.load('cv_scores_XGB_AVG_TFIDF_W_W2V.joblib')\n",
    "TR_scores = joblib.load('TR_scores_XGB_AVG_TFIDF_W_W2V.joblib')\n",
    "\n",
    "fig = plt.figure(figsize=(8,7))\n",
    "a = list(TR_scores.keys())\n",
    "TR_n_estimators = [i[0] for i in a]\n",
    "TR_max_depth = [i[1] for i in a]\n",
    "TR_values = list(TR_scores.values())\n",
    "ax = plt.axes(projection='3d')\n",
    "ax.scatter3D(TR_n_estimators, TR_max_depth, TR_values, c=TR_values, cmap='Blues', label = 'Training AUC');\n",
    "\n",
    "a = list(cv_scores.keys())\n",
    "CV_n_estimators = [i[0] for i in a]\n",
    "CV_max_depth = [i[1] for i in a]\n",
    "CV_values = list(cv_scores.values())\n",
    "ax.scatter3D(CV_n_estimators, CV_max_depth, CV_values, c=CV_values, cmap='Reds', label = 'Cross Validation AUC');\n",
    "\n",
    "ax.set_xlabel('n_estimators')\n",
    "ax.set_ylabel('max_depth')\n",
    "ax.set_zlabel('AUC');\n",
    "ax.legend()\n",
    "plt.show()"
   ]
  },
  {
   "cell_type": "code",
   "execution_count": null,
   "metadata": {},
   "outputs": [],
   "source": [
    "# Testing on test data for best n_estimators and max_depth value obtained from simple cross validation\n",
    "model = XGBClassifier(random_state=101,n_estimators= 500, max_depth=5, n_jobs=-1)\n",
    "model.fit(x_train_AVG_TFIDF_W_W2V, y_tr)\n",
    "train_pred = model.predict(x_train_AVG_TFIDF_W_W2V)"
   ]
  },
  {
   "cell_type": "markdown",
   "metadata": {},
   "source": [
    "### Receiver Operating Characteristic (ROC) Train data"
   ]
  },
  {
   "cell_type": "code",
   "execution_count": null,
   "metadata": {},
   "outputs": [],
   "source": [
    "fpr, tpr, thresholds = metrics.roc_curve(y_tr, train_pred)\n",
    "roc_auc = auc(fpr, tpr)\n",
    "# Plot ROC curve\n",
    "plt.plot(fpr, tpr, label='ROC curve (area = %0.3f)' % roc_auc)\n",
    "plt.plot([0, 1], [0, 1], 'k--')  # random predictions curve\n",
    "plt.xlim([0.0, 1.0])\n",
    "plt.ylim([0.0, 1.0])\n",
    "plt.xlabel('False Positive Rate or (1 - Specifity)')\n",
    "plt.ylabel('True Positive Rate or (Sensitivity)')\n",
    "plt.title('Receiver Operating Characteristic')\n",
    "plt.legend(loc=\"lower right\")"
   ]
  },
  {
   "cell_type": "markdown",
   "metadata": {},
   "source": [
    "### Receiver Operating Characteristic (ROC) Test data"
   ]
  },
  {
   "cell_type": "code",
   "execution_count": null,
   "metadata": {},
   "outputs": [],
   "source": [
    "pred = model.predict(x_test_AVG_TFIDF_W_W2V)\n",
    "fpr, tpr, thresholds = metrics.roc_curve(y_test, pred)\n",
    "metrics.auc(fpr, tpr)"
   ]
  },
  {
   "cell_type": "code",
   "execution_count": null,
   "metadata": {},
   "outputs": [],
   "source": [
    "fpr, tpr, thresholds = metrics.roc_curve(y_test, pred)\n",
    "roc_auc = auc(fpr, tpr)\n",
    "# Plot ROC curve\n",
    "plt.plot(fpr, tpr, label='ROC curve (area = %0.3f)' % roc_auc)\n",
    "plt.plot([0, 1], [0, 1], 'k--')  # random predictions curve\n",
    "plt.xlim([0.0, 1.0])\n",
    "plt.ylim([0.0, 1.0])\n",
    "plt.xlabel('False Positive Rate or (1 - Specifity)')\n",
    "plt.ylabel('True Positive Rate or (Sensitivity)')\n",
    "plt.title('Receiver Operating Characteristic')\n",
    "plt.legend(loc=\"lower right\")"
   ]
  },
  {
   "cell_type": "markdown",
   "metadata": {},
   "source": [
    "#### Observation: From simple cross validation we found the best n_estimators and max_depth to be 500, 5 and AUC increase as we increase n_estimators from 10. The test AUC for n_estimators = 500 and max_depth = 5 is 0.65861, stating the model did not overfit."
   ]
  },
  {
   "cell_type": "markdown",
   "metadata": {},
   "source": [
    "### Performance metrics of classification for train and test data"
   ]
  },
  {
   "cell_type": "code",
   "execution_count": null,
   "metadata": {},
   "outputs": [],
   "source": [
    "# Testing on train data for best n_estimators and max_depth obtained from simple cross validation\n",
    "train_pred = model.predict(x_train_AVG_TFIDF_W_W2V)\n",
    "# confusion matrix for train data\n",
    "mat = confusion_matrix(y_tr, train_pred)\n",
    "target_names = ['Positive', 'Negative']\n",
    "sns.heatmap(mat.T, square=True, annot=True, fmt='d', cbar=False,\n",
    "            xticklabels=target_names, yticklabels=target_names)\n",
    "plt.xlabel('True label')\n",
    "plt.ylabel('Predicted label');"
   ]
  },
  {
   "cell_type": "code",
   "execution_count": null,
   "metadata": {},
   "outputs": [],
   "source": [
    "# confusion matrix for test data\n",
    "confusion_matrix(y_test, pred)"
   ]
  },
  {
   "cell_type": "code",
   "execution_count": null,
   "metadata": {},
   "outputs": [],
   "source": [
    "mat = confusion_matrix(y_test, pred)\n",
    "target_names = ['Positive', 'Negative']\n",
    "sns.heatmap(mat.T, square=True, annot=True, fmt='d', cbar=False,\n",
    "            xticklabels=target_names, yticklabels=target_names)\n",
    "plt.xlabel('True label')\n",
    "plt.ylabel('Predicted label');"
   ]
  },
  {
   "cell_type": "markdown",
   "metadata": {},
   "source": [
    "#### Observations: Correctly classified points in the test data are 18020 ( = 828 + 17192) from confusion matrix and misclassified points are 1980 ( = 354 + 1626)"
   ]
  },
  {
   "cell_type": "markdown",
   "metadata": {},
   "source": [
    "# Conclusions"
   ]
  },
  {
   "cell_type": "code",
   "execution_count": null,
   "metadata": {},
   "outputs": [],
   "source": [
    "from prettytable import PrettyTable  \n",
    "x = PrettyTable()\n",
    "\n",
    "x.field_names = [\"Algorithm\", \"Featurization\",\"n_estimators\",\"max_depth\", \"CV_AUC\", \"Test_AUC\"]\n",
    "\n",
    "x.add_row([\"Random Forest\", \"BOW\",10, 500,0.66315, 0.66752])\n",
    "x.add_row([\"Random Forest\", \"TF-IDF\", 10, 500, 0.65443, 0.65844])\n",
    "x.add_row([\"Random Forest\",\"AVG W2V\",10, 500, 0.64244, 0.64598])\n",
    "x.add_row([\"Random Forest\", \"TFIDF W W2V\", 10, 500, 0.61057, 0.60637])\n",
    "x.add_row([\"---------\",\"-----------\", \"-----------\",\"-----------\",\"-----------\",\"-----------\"])\n",
    "x.add_row([\"---------\",\"-----------\", \"-----------\",\"-----------\",\"-----------\",\"-----------\"])\n",
    "x.add_row([\"XGBOOST\", \"BOW\",500, 500,0.74658, 0.75611])\n",
    "x.add_row([\"XGBOOST\", \"TF-IDF\", 500, 500, 0.73606, 0.74434])\n",
    "x.add_row([\"XGBOOST\",\"AVG W2V\",500, 500, 0.73606, 0.68841])\n",
    "x.add_row([\"XGBOOST\", \"TFIDF W W2V\", 500, 5, 0.66645,0.65861])\n",
    "print(x)"
   ]
  },
  {
   "cell_type": "markdown",
   "metadata": {},
   "source": [
    "#### Observations: Random Forest\n",
    "1. Highest AUC is achieved by Bag Of Words featurization method as 0.66315 on CV data and 0.66752 on test data for Random Forest.\n",
    "2. In Random Forest algorithms, Bag Of Words featurization method has out performed all other methods with n_estimators = 10 and max_depth = 500.\n",
    "3. All featurization method have the best n_estimators = 10 and max_depth = 500.\n",
    "4. All the featurization method have AUC for cross validation and test data above average value\n",
    "5. There is a drastic increases in AUC for both cross validation and test data going from TFIDF Weighted W2V to Bag Of Words featurization method.\n",
    "\n",
    "#### Observations:  XGBOOST\n",
    "1. Highest AUC is achieved by Bag Of Words featurization method as 0.74658 on CV data and 0.75611 on test data for XGBOOST.\n",
    "2. In XGBOOST algorithms, Bag Of Words featurization method has out performed all other methods with n_estimators = 500 and max_depth = 500.\n",
    "3. All featurization method have the best n_estimators = 500 and max_depth = 500 except for TFIDF W W2V which is 5.\n",
    "4. All the featurization method have AUC for cross validation and test data above average value\n",
    "5. There is a drastic increases in AUC for both cross validation and test data going from TFIDF Weighted W2V to Bag Of Words featurization method.\n",
    "\n",
    "#### Conclusions:\n",
    "1. Bag Of Words featurization method outperformed all other featurization methods for both Random Forest and XGBOOST algorithms. \n",
    "2. There is a drastic increases in AUC from TFIDF Weighted W2V to Bag Of Words featurization method.\n",
    "3. In Random Forest, the important feature obtained from TFIDF and Bag Of Words are different from each other.\n",
    "4. XGBOOST has achieved the highest AUC till now among all other machine learning algorithms, reaching the highest of 0.75611 on test data."
   ]
  }
 ],
 "metadata": {
  "kernelspec": {
   "display_name": "Python 3",
   "language": "python",
   "name": "python3"
  },
  "language_info": {
   "codemirror_mode": {
    "name": "ipython",
    "version": 3
   },
   "file_extension": ".py",
   "mimetype": "text/x-python",
   "name": "python",
   "nbconvert_exporter": "python",
   "pygments_lexer": "ipython3",
   "version": "3.6.7"
  }
 },
 "nbformat": 4,
 "nbformat_minor": 2
}
